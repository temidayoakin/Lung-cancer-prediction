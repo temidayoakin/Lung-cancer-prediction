{
 "cells": [
  {
   "cell_type": "markdown",
   "id": "259e34a7",
   "metadata": {},
   "source": [
    "# LUNG CANCER PREDICTION MODEL\n",
    "\n",
    "Cancer is a disease in which cells in the body grow out of control. When cancer starts in the lungs, it is called lung cancer. Lungs are two spongy organs in the chest that takes in oxygen during inhalation and releases carbon dioxide during exhalation. Lung cancer is the leading cause of cancer deaths worldwide.\n",
    "\n",
    "### Types of lung cancer\n",
    "There are 2 main types of lung cancer.\n",
    "\n",
    "### Non-small cell lung cancer (NSCLC)\n",
    "About 80% to 85% of lung cancers are NSCLC. The main subtypes of NSCLC are adenocarcinoma, squamous cell carcinoma, and large cell carcinoma. These subtypes, which start from different types of lung cells, are grouped together as NSCLC because their treatment and prognoses (outlook) are often similar.\n",
    "\n",
    "#### Adenocarcinoma\n",
    "Adenocarcinomas start in the cells that would normally secrete substances such as mucus.\n",
    "This type of lung cancer occurs mainly in people who smoke or used to smoke, but it is also the most common type of lung cancer seen in people who don't smoke. It is more common in women than in men, and it is more likely to occur in younger people than other types of lung cancer.\n",
    "\n",
    "#### Squamous cell carcinoma\n",
    "Squamous cell carcinomas start in squamous cells, which are flat cells that line the inside of the airways in the lungs. They are often linked to a history of smoking and tend to be found in the central part of the lungs, near a main airway (bronchus).\n",
    "\n",
    "#### Large cell (undifferentiated) carcinoma\n",
    "Large cell carcinoma can appear in any part of the lung. It tends to grow and spread quickly, which can make it harder to treat. \n",
    "\n",
    "### Small cell lung cancer (SCLC)\n",
    "About 10% to 15% of all lung cancers are SCLC. It is sometimes called oat cell cancer. \n",
    "This type of lung cancer tends to grow and spread faster than NSCLC. In most people with SCLC, the cancer has already spread beyond the lungs at the time it is diagnosed.\n",
    "\n",
    "### Other types of lung tumors\n",
    "Along with the main types of lung cancer, other tumors can occur in the lungs.\n",
    "\n",
    "#### Lung carcinoid tumors\n",
    "Carcinoid tumors of the lung account for fewer than 5% of lung tumors. Most of these grow slowly. For more information about these tumors, see Lung Carcinoid Tumor.\n",
    "\n",
    "#### Other lung tumors\n",
    "Other types of lung cancer such as adenoid cystic carcinomas, lymphomas, and sarcomas, as well as benign lung tumors such as hamartomas are rare. These are treated differently from the more common lung cancers and are not discussed here.\n",
    "\n",
    "#### Cancers that spread to the lungs\n",
    "Cancers that start in other organs (such as the breast, pancreas, kidney, or skin) can sometimes spread (metastasize) to the lungs, but these are not lung cancers.\n"
   ]
  },
  {
   "cell_type": "markdown",
   "id": "a070edc3",
   "metadata": {},
   "source": [
    "The effectiveness of cancer prediction system helps the people to know their cancer risk with low cost and it also helps the people to take the appropriate decision based on their cancer risk status. The data is collected from the website online lung cancer prediction system.\n",
    "\n",
    "Attribute information:\n",
    "\n",
    "Gender: M(male), F(female)\n",
    "Age: Age of the patient\n",
    "Smoking: YES=2 , NO=1.\n",
    "Yellow fingers: YES=2 , NO=1.\n",
    "Anxiety: YES=2 , NO=1.\n",
    "Peer_pressure: YES=2 , NO=1.\n",
    "Chronic Disease: YES=2 , NO=1.\n",
    "Fatigue: YES=2 , NO=1.\n",
    "Allergy: YES=2 , NO=1.\n",
    "Wheezing: YES=2 , NO=1.\n",
    "Alcohol: YES=2 , NO=1.\n",
    "Coughing: YES=2 , NO=1.\n",
    "Shortness of Breath: YES=2 , NO=1.\n",
    "Swallowing Difficulty: YES=2 , NO=1.\n",
    "Chest pain: YES=2 , NO=1.\n",
    "Lung Cancer: YES , NO."
   ]
  },
  {
   "cell_type": "code",
   "execution_count": 63,
   "id": "d15bb3e6",
   "metadata": {},
   "outputs": [],
   "source": [
    "# import necessary libraries\n",
    "import pandas as pd\n",
    "import tensorflow as tf\n",
    "import matplotlib.pyplot as plt\n",
    "%matplotlib inline\n",
    "import seaborn as sns\n",
    "from sklearn.model_selection import train_test_split\n",
    "from sklearn.preprocessing import MinMaxScaler\n",
    "from imblearn.over_sampling import RandomOverSampler\n",
    "from sklearn.metrics import accuracy_score, recall_score, precision_score, classification_report, confusion_matrix"
   ]
  },
  {
   "cell_type": "markdown",
   "id": "927f8b91",
   "metadata": {},
   "source": [
    "# DATA IMPORTATION"
   ]
  },
  {
   "cell_type": "code",
   "execution_count": 64,
   "id": "e8864aa8",
   "metadata": {},
   "outputs": [
    {
     "data": {
      "text/html": [
       "<div>\n",
       "<style scoped>\n",
       "    .dataframe tbody tr th:only-of-type {\n",
       "        vertical-align: middle;\n",
       "    }\n",
       "\n",
       "    .dataframe tbody tr th {\n",
       "        vertical-align: top;\n",
       "    }\n",
       "\n",
       "    .dataframe thead th {\n",
       "        text-align: right;\n",
       "    }\n",
       "</style>\n",
       "<table border=\"1\" class=\"dataframe\">\n",
       "  <thead>\n",
       "    <tr style=\"text-align: right;\">\n",
       "      <th></th>\n",
       "      <th>GENDER</th>\n",
       "      <th>AGE</th>\n",
       "      <th>SMOKING</th>\n",
       "      <th>YELLOW_FINGERS</th>\n",
       "      <th>ANXIETY</th>\n",
       "      <th>PEER_PRESSURE</th>\n",
       "      <th>CHRONIC DISEASE</th>\n",
       "      <th>FATIGUE</th>\n",
       "      <th>ALLERGY</th>\n",
       "      <th>WHEEZING</th>\n",
       "      <th>ALCOHOL CONSUMING</th>\n",
       "      <th>COUGHING</th>\n",
       "      <th>SHORTNESS OF BREATH</th>\n",
       "      <th>SWALLOWING DIFFICULTY</th>\n",
       "      <th>CHEST PAIN</th>\n",
       "      <th>LUNG_CANCER</th>\n",
       "    </tr>\n",
       "  </thead>\n",
       "  <tbody>\n",
       "    <tr>\n",
       "      <th>0</th>\n",
       "      <td>M</td>\n",
       "      <td>69</td>\n",
       "      <td>1</td>\n",
       "      <td>2</td>\n",
       "      <td>2</td>\n",
       "      <td>1</td>\n",
       "      <td>1</td>\n",
       "      <td>2</td>\n",
       "      <td>1</td>\n",
       "      <td>2</td>\n",
       "      <td>2</td>\n",
       "      <td>2</td>\n",
       "      <td>2</td>\n",
       "      <td>2</td>\n",
       "      <td>2</td>\n",
       "      <td>YES</td>\n",
       "    </tr>\n",
       "    <tr>\n",
       "      <th>1</th>\n",
       "      <td>M</td>\n",
       "      <td>74</td>\n",
       "      <td>2</td>\n",
       "      <td>1</td>\n",
       "      <td>1</td>\n",
       "      <td>1</td>\n",
       "      <td>2</td>\n",
       "      <td>2</td>\n",
       "      <td>2</td>\n",
       "      <td>1</td>\n",
       "      <td>1</td>\n",
       "      <td>1</td>\n",
       "      <td>2</td>\n",
       "      <td>2</td>\n",
       "      <td>2</td>\n",
       "      <td>YES</td>\n",
       "    </tr>\n",
       "    <tr>\n",
       "      <th>2</th>\n",
       "      <td>F</td>\n",
       "      <td>59</td>\n",
       "      <td>1</td>\n",
       "      <td>1</td>\n",
       "      <td>1</td>\n",
       "      <td>2</td>\n",
       "      <td>1</td>\n",
       "      <td>2</td>\n",
       "      <td>1</td>\n",
       "      <td>2</td>\n",
       "      <td>1</td>\n",
       "      <td>2</td>\n",
       "      <td>2</td>\n",
       "      <td>1</td>\n",
       "      <td>2</td>\n",
       "      <td>NO</td>\n",
       "    </tr>\n",
       "    <tr>\n",
       "      <th>3</th>\n",
       "      <td>M</td>\n",
       "      <td>63</td>\n",
       "      <td>2</td>\n",
       "      <td>2</td>\n",
       "      <td>2</td>\n",
       "      <td>1</td>\n",
       "      <td>1</td>\n",
       "      <td>1</td>\n",
       "      <td>1</td>\n",
       "      <td>1</td>\n",
       "      <td>2</td>\n",
       "      <td>1</td>\n",
       "      <td>1</td>\n",
       "      <td>2</td>\n",
       "      <td>2</td>\n",
       "      <td>NO</td>\n",
       "    </tr>\n",
       "    <tr>\n",
       "      <th>4</th>\n",
       "      <td>F</td>\n",
       "      <td>63</td>\n",
       "      <td>1</td>\n",
       "      <td>2</td>\n",
       "      <td>1</td>\n",
       "      <td>1</td>\n",
       "      <td>1</td>\n",
       "      <td>1</td>\n",
       "      <td>1</td>\n",
       "      <td>2</td>\n",
       "      <td>1</td>\n",
       "      <td>2</td>\n",
       "      <td>2</td>\n",
       "      <td>1</td>\n",
       "      <td>1</td>\n",
       "      <td>NO</td>\n",
       "    </tr>\n",
       "  </tbody>\n",
       "</table>\n",
       "</div>"
      ],
      "text/plain": [
       "  GENDER  AGE  SMOKING  YELLOW_FINGERS  ANXIETY  PEER_PRESSURE  \\\n",
       "0      M   69        1               2        2              1   \n",
       "1      M   74        2               1        1              1   \n",
       "2      F   59        1               1        1              2   \n",
       "3      M   63        2               2        2              1   \n",
       "4      F   63        1               2        1              1   \n",
       "\n",
       "   CHRONIC DISEASE  FATIGUE   ALLERGY   WHEEZING  ALCOHOL CONSUMING  COUGHING  \\\n",
       "0                1         2         1         2                  2         2   \n",
       "1                2         2         2         1                  1         1   \n",
       "2                1         2         1         2                  1         2   \n",
       "3                1         1         1         1                  2         1   \n",
       "4                1         1         1         2                  1         2   \n",
       "\n",
       "   SHORTNESS OF BREATH  SWALLOWING DIFFICULTY  CHEST PAIN LUNG_CANCER  \n",
       "0                    2                      2           2         YES  \n",
       "1                    2                      2           2         YES  \n",
       "2                    2                      1           2          NO  \n",
       "3                    1                      2           2          NO  \n",
       "4                    2                      1           1          NO  "
      ]
     },
     "execution_count": 64,
     "metadata": {},
     "output_type": "execute_result"
    }
   ],
   "source": [
    "# parsing the data into a dataframe\n",
    "df = pd.read_csv(\"survey lung cancer.csv\")\n",
    "df.head()"
   ]
  },
  {
   "cell_type": "markdown",
   "id": "24fef091",
   "metadata": {},
   "source": [
    "# DATA WRANGLING"
   ]
  },
  {
   "cell_type": "code",
   "execution_count": 65,
   "id": "6ea3bc9a",
   "metadata": {},
   "outputs": [
    {
     "data": {
      "text/plain": [
       "(309, 16)"
      ]
     },
     "execution_count": 65,
     "metadata": {},
     "output_type": "execute_result"
    }
   ],
   "source": [
    "df.shape"
   ]
  },
  {
   "cell_type": "markdown",
   "id": "6ca920d1",
   "metadata": {},
   "source": [
    "The dataset has 308 rows and 16 attribute"
   ]
  },
  {
   "cell_type": "code",
   "execution_count": 66,
   "id": "44f6e884",
   "metadata": {},
   "outputs": [
    {
     "name": "stdout",
     "output_type": "stream",
     "text": [
      "<class 'pandas.core.frame.DataFrame'>\n",
      "RangeIndex: 309 entries, 0 to 308\n",
      "Data columns (total 16 columns):\n",
      " #   Column                 Non-Null Count  Dtype \n",
      "---  ------                 --------------  ----- \n",
      " 0   GENDER                 309 non-null    object\n",
      " 1   AGE                    309 non-null    int64 \n",
      " 2   SMOKING                309 non-null    int64 \n",
      " 3   YELLOW_FINGERS         309 non-null    int64 \n",
      " 4   ANXIETY                309 non-null    int64 \n",
      " 5   PEER_PRESSURE          309 non-null    int64 \n",
      " 6   CHRONIC DISEASE        309 non-null    int64 \n",
      " 7   FATIGUE                309 non-null    int64 \n",
      " 8   ALLERGY                309 non-null    int64 \n",
      " 9   WHEEZING               309 non-null    int64 \n",
      " 10  ALCOHOL CONSUMING      309 non-null    int64 \n",
      " 11  COUGHING               309 non-null    int64 \n",
      " 12  SHORTNESS OF BREATH    309 non-null    int64 \n",
      " 13  SWALLOWING DIFFICULTY  309 non-null    int64 \n",
      " 14  CHEST PAIN             309 non-null    int64 \n",
      " 15  LUNG_CANCER            309 non-null    object\n",
      "dtypes: int64(14), object(2)\n",
      "memory usage: 38.8+ KB\n"
     ]
    }
   ],
   "source": [
    "df.info()"
   ]
  },
  {
   "cell_type": "code",
   "execution_count": 67,
   "id": "99a21f54",
   "metadata": {},
   "outputs": [
    {
     "data": {
      "text/plain": [
       "33"
      ]
     },
     "execution_count": 67,
     "metadata": {},
     "output_type": "execute_result"
    }
   ],
   "source": [
    "# check for duplicate values\n",
    "df.duplicated().sum()"
   ]
  },
  {
   "cell_type": "code",
   "execution_count": 68,
   "id": "aaf64680",
   "metadata": {},
   "outputs": [],
   "source": [
    "df.drop_duplicates(inplace=True)"
   ]
  },
  {
   "cell_type": "code",
   "execution_count": 69,
   "id": "493625b2",
   "metadata": {},
   "outputs": [
    {
     "data": {
      "text/plain": [
       "GENDER                   0\n",
       "AGE                      0\n",
       "SMOKING                  0\n",
       "YELLOW_FINGERS           0\n",
       "ANXIETY                  0\n",
       "PEER_PRESSURE            0\n",
       "CHRONIC DISEASE          0\n",
       "FATIGUE                  0\n",
       "ALLERGY                  0\n",
       "WHEEZING                 0\n",
       "ALCOHOL CONSUMING        0\n",
       "COUGHING                 0\n",
       "SHORTNESS OF BREATH      0\n",
       "SWALLOWING DIFFICULTY    0\n",
       "CHEST PAIN               0\n",
       "LUNG_CANCER              0\n",
       "dtype: int64"
      ]
     },
     "execution_count": 69,
     "metadata": {},
     "output_type": "execute_result"
    }
   ],
   "source": [
    "# check for null values\n",
    "df.isnull().sum()"
   ]
  },
  {
   "cell_type": "markdown",
   "id": "b2c4dfd7",
   "metadata": {},
   "source": [
    "There are no null values."
   ]
  },
  {
   "cell_type": "markdown",
   "id": "ad0b54b1",
   "metadata": {},
   "source": [
    "# EXPLORATORY DATA ANALYSIS"
   ]
  },
  {
   "cell_type": "code",
   "execution_count": 70,
   "id": "7bcea978",
   "metadata": {
    "scrolled": true
   },
   "outputs": [
    {
     "data": {
      "text/html": [
       "<div>\n",
       "<style scoped>\n",
       "    .dataframe tbody tr th:only-of-type {\n",
       "        vertical-align: middle;\n",
       "    }\n",
       "\n",
       "    .dataframe tbody tr th {\n",
       "        vertical-align: top;\n",
       "    }\n",
       "\n",
       "    .dataframe thead th {\n",
       "        text-align: right;\n",
       "    }\n",
       "</style>\n",
       "<table border=\"1\" class=\"dataframe\">\n",
       "  <thead>\n",
       "    <tr style=\"text-align: right;\">\n",
       "      <th></th>\n",
       "      <th>AGE</th>\n",
       "      <th>SMOKING</th>\n",
       "      <th>YELLOW_FINGERS</th>\n",
       "      <th>ANXIETY</th>\n",
       "      <th>PEER_PRESSURE</th>\n",
       "      <th>CHRONIC DISEASE</th>\n",
       "      <th>FATIGUE</th>\n",
       "      <th>ALLERGY</th>\n",
       "      <th>WHEEZING</th>\n",
       "      <th>ALCOHOL CONSUMING</th>\n",
       "      <th>COUGHING</th>\n",
       "      <th>SHORTNESS OF BREATH</th>\n",
       "      <th>SWALLOWING DIFFICULTY</th>\n",
       "      <th>CHEST PAIN</th>\n",
       "    </tr>\n",
       "  </thead>\n",
       "  <tbody>\n",
       "    <tr>\n",
       "      <th>count</th>\n",
       "      <td>276.000000</td>\n",
       "      <td>276.000000</td>\n",
       "      <td>276.000000</td>\n",
       "      <td>276.000000</td>\n",
       "      <td>276.000000</td>\n",
       "      <td>276.000000</td>\n",
       "      <td>276.000000</td>\n",
       "      <td>276.000000</td>\n",
       "      <td>276.000000</td>\n",
       "      <td>276.000000</td>\n",
       "      <td>276.000000</td>\n",
       "      <td>276.000000</td>\n",
       "      <td>276.000000</td>\n",
       "      <td>276.000000</td>\n",
       "    </tr>\n",
       "    <tr>\n",
       "      <th>mean</th>\n",
       "      <td>62.909420</td>\n",
       "      <td>1.543478</td>\n",
       "      <td>1.576087</td>\n",
       "      <td>1.496377</td>\n",
       "      <td>1.507246</td>\n",
       "      <td>1.521739</td>\n",
       "      <td>1.663043</td>\n",
       "      <td>1.547101</td>\n",
       "      <td>1.547101</td>\n",
       "      <td>1.550725</td>\n",
       "      <td>1.576087</td>\n",
       "      <td>1.630435</td>\n",
       "      <td>1.467391</td>\n",
       "      <td>1.557971</td>\n",
       "    </tr>\n",
       "    <tr>\n",
       "      <th>std</th>\n",
       "      <td>8.379355</td>\n",
       "      <td>0.499011</td>\n",
       "      <td>0.495075</td>\n",
       "      <td>0.500895</td>\n",
       "      <td>0.500856</td>\n",
       "      <td>0.500435</td>\n",
       "      <td>0.473529</td>\n",
       "      <td>0.498681</td>\n",
       "      <td>0.498681</td>\n",
       "      <td>0.498324</td>\n",
       "      <td>0.495075</td>\n",
       "      <td>0.483564</td>\n",
       "      <td>0.499842</td>\n",
       "      <td>0.497530</td>\n",
       "    </tr>\n",
       "    <tr>\n",
       "      <th>min</th>\n",
       "      <td>21.000000</td>\n",
       "      <td>1.000000</td>\n",
       "      <td>1.000000</td>\n",
       "      <td>1.000000</td>\n",
       "      <td>1.000000</td>\n",
       "      <td>1.000000</td>\n",
       "      <td>1.000000</td>\n",
       "      <td>1.000000</td>\n",
       "      <td>1.000000</td>\n",
       "      <td>1.000000</td>\n",
       "      <td>1.000000</td>\n",
       "      <td>1.000000</td>\n",
       "      <td>1.000000</td>\n",
       "      <td>1.000000</td>\n",
       "    </tr>\n",
       "    <tr>\n",
       "      <th>25%</th>\n",
       "      <td>57.750000</td>\n",
       "      <td>1.000000</td>\n",
       "      <td>1.000000</td>\n",
       "      <td>1.000000</td>\n",
       "      <td>1.000000</td>\n",
       "      <td>1.000000</td>\n",
       "      <td>1.000000</td>\n",
       "      <td>1.000000</td>\n",
       "      <td>1.000000</td>\n",
       "      <td>1.000000</td>\n",
       "      <td>1.000000</td>\n",
       "      <td>1.000000</td>\n",
       "      <td>1.000000</td>\n",
       "      <td>1.000000</td>\n",
       "    </tr>\n",
       "    <tr>\n",
       "      <th>50%</th>\n",
       "      <td>62.500000</td>\n",
       "      <td>2.000000</td>\n",
       "      <td>2.000000</td>\n",
       "      <td>1.000000</td>\n",
       "      <td>2.000000</td>\n",
       "      <td>2.000000</td>\n",
       "      <td>2.000000</td>\n",
       "      <td>2.000000</td>\n",
       "      <td>2.000000</td>\n",
       "      <td>2.000000</td>\n",
       "      <td>2.000000</td>\n",
       "      <td>2.000000</td>\n",
       "      <td>1.000000</td>\n",
       "      <td>2.000000</td>\n",
       "    </tr>\n",
       "    <tr>\n",
       "      <th>75%</th>\n",
       "      <td>69.000000</td>\n",
       "      <td>2.000000</td>\n",
       "      <td>2.000000</td>\n",
       "      <td>2.000000</td>\n",
       "      <td>2.000000</td>\n",
       "      <td>2.000000</td>\n",
       "      <td>2.000000</td>\n",
       "      <td>2.000000</td>\n",
       "      <td>2.000000</td>\n",
       "      <td>2.000000</td>\n",
       "      <td>2.000000</td>\n",
       "      <td>2.000000</td>\n",
       "      <td>2.000000</td>\n",
       "      <td>2.000000</td>\n",
       "    </tr>\n",
       "    <tr>\n",
       "      <th>max</th>\n",
       "      <td>87.000000</td>\n",
       "      <td>2.000000</td>\n",
       "      <td>2.000000</td>\n",
       "      <td>2.000000</td>\n",
       "      <td>2.000000</td>\n",
       "      <td>2.000000</td>\n",
       "      <td>2.000000</td>\n",
       "      <td>2.000000</td>\n",
       "      <td>2.000000</td>\n",
       "      <td>2.000000</td>\n",
       "      <td>2.000000</td>\n",
       "      <td>2.000000</td>\n",
       "      <td>2.000000</td>\n",
       "      <td>2.000000</td>\n",
       "    </tr>\n",
       "  </tbody>\n",
       "</table>\n",
       "</div>"
      ],
      "text/plain": [
       "              AGE     SMOKING  YELLOW_FINGERS     ANXIETY  PEER_PRESSURE  \\\n",
       "count  276.000000  276.000000      276.000000  276.000000     276.000000   \n",
       "mean    62.909420    1.543478        1.576087    1.496377       1.507246   \n",
       "std      8.379355    0.499011        0.495075    0.500895       0.500856   \n",
       "min     21.000000    1.000000        1.000000    1.000000       1.000000   \n",
       "25%     57.750000    1.000000        1.000000    1.000000       1.000000   \n",
       "50%     62.500000    2.000000        2.000000    1.000000       2.000000   \n",
       "75%     69.000000    2.000000        2.000000    2.000000       2.000000   \n",
       "max     87.000000    2.000000        2.000000    2.000000       2.000000   \n",
       "\n",
       "       CHRONIC DISEASE    FATIGUE     ALLERGY     WHEEZING  ALCOHOL CONSUMING  \\\n",
       "count       276.000000  276.000000  276.000000  276.000000         276.000000   \n",
       "mean          1.521739    1.663043    1.547101    1.547101           1.550725   \n",
       "std           0.500435    0.473529    0.498681    0.498681           0.498324   \n",
       "min           1.000000    1.000000    1.000000    1.000000           1.000000   \n",
       "25%           1.000000    1.000000    1.000000    1.000000           1.000000   \n",
       "50%           2.000000    2.000000    2.000000    2.000000           2.000000   \n",
       "75%           2.000000    2.000000    2.000000    2.000000           2.000000   \n",
       "max           2.000000    2.000000    2.000000    2.000000           2.000000   \n",
       "\n",
       "         COUGHING  SHORTNESS OF BREATH  SWALLOWING DIFFICULTY  CHEST PAIN  \n",
       "count  276.000000           276.000000             276.000000  276.000000  \n",
       "mean     1.576087             1.630435               1.467391    1.557971  \n",
       "std      0.495075             0.483564               0.499842    0.497530  \n",
       "min      1.000000             1.000000               1.000000    1.000000  \n",
       "25%      1.000000             1.000000               1.000000    1.000000  \n",
       "50%      2.000000             2.000000               1.000000    2.000000  \n",
       "75%      2.000000             2.000000               2.000000    2.000000  \n",
       "max      2.000000             2.000000               2.000000    2.000000  "
      ]
     },
     "execution_count": 70,
     "metadata": {},
     "output_type": "execute_result"
    }
   ],
   "source": [
    "df.describe()"
   ]
  },
  {
   "cell_type": "code",
   "execution_count": 71,
   "id": "ae6811b7",
   "metadata": {},
   "outputs": [
    {
     "data": {
      "image/png": "[encoded data removed]",
      "text/plain": [
       "<Figure size 700x500 with 1 Axes>"
      ]
     },
     "metadata": {},
     "output_type": "display_data"
    }
   ],
   "source": [
    "plt.figure(figsize=(7,5))\n",
    "df['LUNG_CANCER'].value_counts().plot(kind=\"bar\")\n",
    "plt.xlabel(\"LUNG CANCER\")\n",
    "plt.ylabel(\"COUNT\")\n",
    "plt.title(\"Distributuion of cancer cases\")\n",
    "plt.show()"
   ]
  },
  {
   "cell_type": "markdown",
   "id": "ccb41cd3",
   "metadata": {},
   "source": [
    "This shows that the dataset has an higher number of positive lung cancer cases than negative cases."
   ]
  },
  {
   "cell_type": "code",
   "execution_count": 72,
   "id": "e6dcffe8",
   "metadata": {},
   "outputs": [
    {
     "data": {
      "image/png": "[encoded data removed]",
      "text/plain": [
       "<Figure size 700x500 with 1 Axes>"
      ]
     },
     "metadata": {},
     "output_type": "display_data"
    }
   ],
   "source": [
    "plt.figure(figsize=(7,5))\n",
    "df['GENDER'].value_counts().plot(kind=\"bar\")\n",
    "plt.xlabel(\"GENDER\")\n",
    "plt.ylabel(\"COUNT\")\n",
    "plt.title(\"Distributuion of gender\")\n",
    "plt.show()"
   ]
  },
  {
   "cell_type": "markdown",
   "id": "08b28d9a",
   "metadata": {},
   "source": [
    "The gender distribution is almost equal. There is only a slight difference."
   ]
  },
  {
   "cell_type": "code",
   "execution_count": 73,
   "id": "a795d4b9",
   "metadata": {},
   "outputs": [
    {
     "data": {
      "image/png": "[encoded data removed]",
      "text/plain": [
       "<Figure size 700x400 with 1 Axes>"
      ]
     },
     "metadata": {},
     "output_type": "display_data"
    }
   ],
   "source": [
    "plt.figure(figsize=(7,4))\n",
    "df['LUNG_CANCER'].groupby(df[\"GENDER\"]).value_counts().plot(kind=\"bar\")\n",
    "plt.xlabel(\"LUNG CANCER\")\n",
    "plt.ylabel(\"COUNT\")\n",
    "plt.title(\"Distributuion of cancer cases based on gender\")\n",
    "plt.show()"
   ]
  },
  {
   "cell_type": "markdown",
   "id": "d5f2dcb1",
   "metadata": {},
   "source": [
    "This shows that there are 113 females have cancer, 21 females do not have cancer, 125 males have cancer and 17 males do not have."
   ]
  },
  {
   "cell_type": "code",
   "execution_count": 74,
   "id": "db227d06",
   "metadata": {},
   "outputs": [],
   "source": [
    "# creating a function\n",
    "def countplot(x, y, title, data=df):\n",
    "    \"\"\"\n",
    "    Function to plot a countplot\n",
    "\n",
    "    x: variable(1)\n",
    "    y: variables(2)\n",
    "    title: title for the countplot\n",
    "    data: dataframe\n",
    "    \"\"\"\n",
    "    plt.figure(figsize=(7,4))\n",
    "    sns.countplot(data=df, x=x, hue=y)\n",
    "    plt.title(title, fontsize=14)\n",
    "    plt.show()"
   ]
  },
  {
   "cell_type": "code",
   "execution_count": 75,
   "id": "5ad03fdb",
   "metadata": {},
   "outputs": [
    {
     "data": {
      "image/png": "[encoded data removed]",
      "text/plain": [
       "<Figure size 700x400 with 1 Axes>"
      ]
     },
     "metadata": {},
     "output_type": "display_data"
    }
   ],
   "source": [
    "countplot(x=\"LUNG_CANCER\", y=\"GENDER\", title=\"Relationship between LUNG CANCER and GENDER\")"
   ]
  },
  {
   "cell_type": "markdown",
   "id": "452e1207",
   "metadata": {},
   "source": [
    "This shows more males have lung cancer than females."
   ]
  },
  {
   "cell_type": "code",
   "execution_count": 76,
   "id": "9537fb83",
   "metadata": {},
   "outputs": [
    {
     "data": {
      "image/png": "[encoded data removed]",
      "text/plain": [
       "<Figure size 700x400 with 1 Axes>"
      ]
     },
     "metadata": {},
     "output_type": "display_data"
    }
   ],
   "source": [
    "countplot(x=\"LUNG_CANCER\", y=\"ALCOHOL CONSUMING\", title=\"Relationship between LUNG CANCER and ALCOHOL\")"
   ]
  },
  {
   "cell_type": "markdown",
   "id": "9226ea60",
   "metadata": {},
   "source": [
    "A larger number of people that consumed alcohol developed lung cancer and only a few did not have lung cancer. Could alochol consumption be a risk factor?? "
   ]
  },
  {
   "cell_type": "code",
   "execution_count": 77,
   "id": "0b4ecdcd",
   "metadata": {},
   "outputs": [
    {
     "data": {
      "image/png": "[encoded data removed]",
      "text/plain": [
       "<Figure size 700x400 with 1 Axes>"
      ]
     },
     "metadata": {},
     "output_type": "display_data"
    }
   ],
   "source": [
    "countplot(x=\"LUNG_CANCER\", y=\"SMOKING\", title=\"Relationship between LUNG CANCER and SMOKING\")"
   ]
  },
  {
   "cell_type": "markdown",
   "id": "d1a27241",
   "metadata": {},
   "source": [
    "A greater number of people that smokes developed lung cancer and only a few did not have lung cancer. Smoking has always being believed to be a risk factor of lung cancer."
   ]
  },
  {
   "cell_type": "code",
   "execution_count": 78,
   "id": "51a2f6dd",
   "metadata": {},
   "outputs": [
    {
     "data": {
      "image/png": "[encoded data removed]",
      "text/plain": [
       "<Figure size 700x400 with 1 Axes>"
      ]
     },
     "metadata": {},
     "output_type": "display_data"
    }
   ],
   "source": [
    "countplot(x=\"LUNG_CANCER\", y=\"CHRONIC DISEASE\", title=\"Relationship between LUNG CANCER and CHRONIC DISEASE\")"
   ]
  },
  {
   "cell_type": "markdown",
   "id": "43f42576",
   "metadata": {},
   "source": [
    "This shows that a good number of people who have a chronic disease also developed lung cancer. this could be as a result of immunosuppression that occurs in people with chronic diseases."
   ]
  },
  {
   "cell_type": "code",
   "execution_count": 79,
   "id": "539a6b76",
   "metadata": {},
   "outputs": [
    {
     "name": "stderr",
     "output_type": "stream",
     "text": [
      "C:\\Users\\dayoa\\AppData\\Local\\Temp\\ipykernel_21612\\3509659678.py:3: UserWarning: \n",
      "\n",
      "`distplot` is a deprecated function and will be removed in seaborn v0.14.0.\n",
      "\n",
      "Please adapt your code to use either `displot` (a figure-level function with\n",
      "similar flexibility) or `histplot` (an axes-level function for histograms).\n",
      "\n",
      "For a guide to updating your code to use the new functions, please see\n",
      "https://gist.github.com/mwaskom/de44147ed2974457ad6372750bbe5751\n",
      "\n",
      "  sns.distplot(df[\"AGE\"], bins=50)\n"
     ]
    },
    {
     "data": {
      "image/png": "[encoded data removed]",
      "text/plain": [
       "<Figure size 900x600 with 1 Axes>"
      ]
     },
     "metadata": {},
     "output_type": "display_data"
    }
   ],
   "source": [
    "# using distplot to examine distribution of Bmi\n",
    "plt.figure(figsize=(9,6))\n",
    "sns.distplot(df[\"AGE\"], bins=50)\n",
    "plt.xlabel(\"AGE\")\n",
    "plt.ylabel(\"frequency distribution\")\n",
    "plt.title(\"Distribution of AGE\", fontsize=14);"
   ]
  },
  {
   "cell_type": "markdown",
   "id": "635eb0f8",
   "metadata": {},
   "source": [
    "The age distribution curve does not show a normal gaussian curve."
   ]
  },
  {
   "cell_type": "markdown",
   "id": "4646d641",
   "metadata": {},
   "source": [
    "# DATA PREPROCESSING"
   ]
  },
  {
   "cell_type": "markdown",
   "id": "9d6bcc7d",
   "metadata": {},
   "source": [
    "There is need to group the \"AGE\" column so as to reduce the number of unique values and help our model perform better."
   ]
  },
  {
   "cell_type": "code",
   "execution_count": 80,
   "id": "2ce1d81b",
   "metadata": {},
   "outputs": [
    {
     "name": "stdout",
     "output_type": "stream",
     "text": [
      "minimum age is: 21\n",
      "maximum age is: 87\n"
     ]
    }
   ],
   "source": [
    "print(\"minimum age is:\", df['AGE'].min())\n",
    "print(\"maximum age is:\", df['AGE'].max())"
   ]
  },
  {
   "cell_type": "code",
   "execution_count": 81,
   "id": "e52f4f35",
   "metadata": {},
   "outputs": [
    {
     "data": {
      "text/html": [
       "<div>\n",
       "<style scoped>\n",
       "    .dataframe tbody tr th:only-of-type {\n",
       "        vertical-align: middle;\n",
       "    }\n",
       "\n",
       "    .dataframe tbody tr th {\n",
       "        vertical-align: top;\n",
       "    }\n",
       "\n",
       "    .dataframe thead th {\n",
       "        text-align: right;\n",
       "    }\n",
       "</style>\n",
       "<table border=\"1\" class=\"dataframe\">\n",
       "  <thead>\n",
       "    <tr style=\"text-align: right;\">\n",
       "      <th></th>\n",
       "      <th>GENDER</th>\n",
       "      <th>AGE</th>\n",
       "      <th>SMOKING</th>\n",
       "      <th>YELLOW_FINGERS</th>\n",
       "      <th>ANXIETY</th>\n",
       "      <th>PEER_PRESSURE</th>\n",
       "      <th>CHRONIC DISEASE</th>\n",
       "      <th>FATIGUE</th>\n",
       "      <th>ALLERGY</th>\n",
       "      <th>WHEEZING</th>\n",
       "      <th>ALCOHOL CONSUMING</th>\n",
       "      <th>COUGHING</th>\n",
       "      <th>SHORTNESS OF BREATH</th>\n",
       "      <th>SWALLOWING DIFFICULTY</th>\n",
       "      <th>CHEST PAIN</th>\n",
       "      <th>LUNG_CANCER</th>\n",
       "      <th>AGE_GROUP</th>\n",
       "    </tr>\n",
       "  </thead>\n",
       "  <tbody>\n",
       "    <tr>\n",
       "      <th>0</th>\n",
       "      <td>M</td>\n",
       "      <td>69</td>\n",
       "      <td>1</td>\n",
       "      <td>2</td>\n",
       "      <td>2</td>\n",
       "      <td>1</td>\n",
       "      <td>1</td>\n",
       "      <td>2</td>\n",
       "      <td>1</td>\n",
       "      <td>2</td>\n",
       "      <td>2</td>\n",
       "      <td>2</td>\n",
       "      <td>2</td>\n",
       "      <td>2</td>\n",
       "      <td>2</td>\n",
       "      <td>YES</td>\n",
       "      <td>61-70</td>\n",
       "    </tr>\n",
       "    <tr>\n",
       "      <th>1</th>\n",
       "      <td>M</td>\n",
       "      <td>74</td>\n",
       "      <td>2</td>\n",
       "      <td>1</td>\n",
       "      <td>1</td>\n",
       "      <td>1</td>\n",
       "      <td>2</td>\n",
       "      <td>2</td>\n",
       "      <td>2</td>\n",
       "      <td>1</td>\n",
       "      <td>1</td>\n",
       "      <td>1</td>\n",
       "      <td>2</td>\n",
       "      <td>2</td>\n",
       "      <td>2</td>\n",
       "      <td>YES</td>\n",
       "      <td>71-80</td>\n",
       "    </tr>\n",
       "    <tr>\n",
       "      <th>2</th>\n",
       "      <td>F</td>\n",
       "      <td>59</td>\n",
       "      <td>1</td>\n",
       "      <td>1</td>\n",
       "      <td>1</td>\n",
       "      <td>2</td>\n",
       "      <td>1</td>\n",
       "      <td>2</td>\n",
       "      <td>1</td>\n",
       "      <td>2</td>\n",
       "      <td>1</td>\n",
       "      <td>2</td>\n",
       "      <td>2</td>\n",
       "      <td>1</td>\n",
       "      <td>2</td>\n",
       "      <td>NO</td>\n",
       "      <td>51-60</td>\n",
       "    </tr>\n",
       "    <tr>\n",
       "      <th>3</th>\n",
       "      <td>M</td>\n",
       "      <td>63</td>\n",
       "      <td>2</td>\n",
       "      <td>2</td>\n",
       "      <td>2</td>\n",
       "      <td>1</td>\n",
       "      <td>1</td>\n",
       "      <td>1</td>\n",
       "      <td>1</td>\n",
       "      <td>1</td>\n",
       "      <td>2</td>\n",
       "      <td>1</td>\n",
       "      <td>1</td>\n",
       "      <td>2</td>\n",
       "      <td>2</td>\n",
       "      <td>NO</td>\n",
       "      <td>61-70</td>\n",
       "    </tr>\n",
       "    <tr>\n",
       "      <th>4</th>\n",
       "      <td>F</td>\n",
       "      <td>63</td>\n",
       "      <td>1</td>\n",
       "      <td>2</td>\n",
       "      <td>1</td>\n",
       "      <td>1</td>\n",
       "      <td>1</td>\n",
       "      <td>1</td>\n",
       "      <td>1</td>\n",
       "      <td>2</td>\n",
       "      <td>1</td>\n",
       "      <td>2</td>\n",
       "      <td>2</td>\n",
       "      <td>1</td>\n",
       "      <td>1</td>\n",
       "      <td>NO</td>\n",
       "      <td>61-70</td>\n",
       "    </tr>\n",
       "  </tbody>\n",
       "</table>\n",
       "</div>"
      ],
      "text/plain": [
       "  GENDER  AGE  SMOKING  YELLOW_FINGERS  ANXIETY  PEER_PRESSURE  \\\n",
       "0      M   69        1               2        2              1   \n",
       "1      M   74        2               1        1              1   \n",
       "2      F   59        1               1        1              2   \n",
       "3      M   63        2               2        2              1   \n",
       "4      F   63        1               2        1              1   \n",
       "\n",
       "   CHRONIC DISEASE  FATIGUE   ALLERGY   WHEEZING  ALCOHOL CONSUMING  COUGHING  \\\n",
       "0                1         2         1         2                  2         2   \n",
       "1                2         2         2         1                  1         1   \n",
       "2                1         2         1         2                  1         2   \n",
       "3                1         1         1         1                  2         1   \n",
       "4                1         1         1         2                  1         2   \n",
       "\n",
       "   SHORTNESS OF BREATH  SWALLOWING DIFFICULTY  CHEST PAIN LUNG_CANCER  \\\n",
       "0                    2                      2           2         YES   \n",
       "1                    2                      2           2         YES   \n",
       "2                    2                      1           2          NO   \n",
       "3                    1                      2           2          NO   \n",
       "4                    2                      1           1          NO   \n",
       "\n",
       "  AGE_GROUP  \n",
       "0     61-70  \n",
       "1     71-80  \n",
       "2     51-60  \n",
       "3     61-70  \n",
       "4     61-70  "
      ]
     },
     "execution_count": 81,
     "metadata": {},
     "output_type": "execute_result"
    }
   ],
   "source": [
    "bins = [20, 30, 40, 50, 60, 70, 80, 90]\n",
    "labels = ['21-30', '31-40', '41-50', '51-60', '61-70', '71-80', '81-90']\n",
    "# Create a new column 'AGE_GROUP' based on the specified bins and labels\n",
    "df['AGE_GROUP'] = pd.cut(df['AGE'], bins=bins, labels=labels, right=False)\n",
    "df.head()"
   ]
  },
  {
   "cell_type": "code",
   "execution_count": 82,
   "id": "50d71c8e",
   "metadata": {},
   "outputs": [
    {
     "data": {
      "image/png": "[encoded data removed]",
      "text/plain": [
       "<Figure size 640x480 with 1 Axes>"
      ]
     },
     "metadata": {},
     "output_type": "display_data"
    }
   ],
   "source": [
    "df['AGE_GROUP'].value_counts().plot(kind=\"bar\")\n",
    "plt.xlabel(\"Age_group\")\n",
    "plt.ylabel(\"Counts\")\n",
    "plt.title(\"Age_group distribution\")\n",
    "plt.show()"
   ]
  },
  {
   "cell_type": "markdown",
   "id": "d2159caf",
   "metadata": {},
   "source": [
    "This shows that the dataset has majority of cases between the ages 61 and 70"
   ]
  },
  {
   "cell_type": "code",
   "execution_count": 83,
   "id": "80ec5f42",
   "metadata": {},
   "outputs": [
    {
     "data": {
      "image/png": "[encoded data removed]",
      "text/plain": [
       "<Figure size 700x400 with 1 Axes>"
      ]
     },
     "metadata": {},
     "output_type": "display_data"
    }
   ],
   "source": [
    "plt.figure(figsize=(7,4))\n",
    "sns.countplot(data=df, x=\"AGE_GROUP\", hue=\"LUNG_CANCER\")\n",
    "plt.title(\"AGE GROUP vs LUNG CANCER\", fontsize=14)\n",
    "plt.show()"
   ]
  },
  {
   "cell_type": "markdown",
   "id": "ec3b13ae",
   "metadata": {},
   "source": [
    "There are more positives cases recorded for ages between 61-70. This could be due to age_group 61-70 being the majority of the data collected or due to old-age being a great risk factor."
   ]
  },
  {
   "cell_type": "code",
   "execution_count": 84,
   "id": "1a8e4172",
   "metadata": {},
   "outputs": [
    {
     "data": {
      "text/html": [
       "<div>\n",
       "<style scoped>\n",
       "    .dataframe tbody tr th:only-of-type {\n",
       "        vertical-align: middle;\n",
       "    }\n",
       "\n",
       "    .dataframe tbody tr th {\n",
       "        vertical-align: top;\n",
       "    }\n",
       "\n",
       "    .dataframe thead th {\n",
       "        text-align: right;\n",
       "    }\n",
       "</style>\n",
       "<table border=\"1\" class=\"dataframe\">\n",
       "  <thead>\n",
       "    <tr style=\"text-align: right;\">\n",
       "      <th></th>\n",
       "      <th>GENDER</th>\n",
       "      <th>SMOKING</th>\n",
       "      <th>YELLOW_FINGERS</th>\n",
       "      <th>ANXIETY</th>\n",
       "      <th>PEER_PRESSURE</th>\n",
       "      <th>CHRONIC DISEASE</th>\n",
       "      <th>FATIGUE</th>\n",
       "      <th>ALLERGY</th>\n",
       "      <th>WHEEZING</th>\n",
       "      <th>ALCOHOL CONSUMING</th>\n",
       "      <th>COUGHING</th>\n",
       "      <th>SHORTNESS OF BREATH</th>\n",
       "      <th>SWALLOWING DIFFICULTY</th>\n",
       "      <th>CHEST PAIN</th>\n",
       "      <th>LUNG_CANCER</th>\n",
       "      <th>AGE_GROUP</th>\n",
       "    </tr>\n",
       "  </thead>\n",
       "  <tbody>\n",
       "    <tr>\n",
       "      <th>0</th>\n",
       "      <td>M</td>\n",
       "      <td>1</td>\n",
       "      <td>2</td>\n",
       "      <td>2</td>\n",
       "      <td>1</td>\n",
       "      <td>1</td>\n",
       "      <td>2</td>\n",
       "      <td>1</td>\n",
       "      <td>2</td>\n",
       "      <td>2</td>\n",
       "      <td>2</td>\n",
       "      <td>2</td>\n",
       "      <td>2</td>\n",
       "      <td>2</td>\n",
       "      <td>YES</td>\n",
       "      <td>61-70</td>\n",
       "    </tr>\n",
       "    <tr>\n",
       "      <th>1</th>\n",
       "      <td>M</td>\n",
       "      <td>2</td>\n",
       "      <td>1</td>\n",
       "      <td>1</td>\n",
       "      <td>1</td>\n",
       "      <td>2</td>\n",
       "      <td>2</td>\n",
       "      <td>2</td>\n",
       "      <td>1</td>\n",
       "      <td>1</td>\n",
       "      <td>1</td>\n",
       "      <td>2</td>\n",
       "      <td>2</td>\n",
       "      <td>2</td>\n",
       "      <td>YES</td>\n",
       "      <td>71-80</td>\n",
       "    </tr>\n",
       "    <tr>\n",
       "      <th>2</th>\n",
       "      <td>F</td>\n",
       "      <td>1</td>\n",
       "      <td>1</td>\n",
       "      <td>1</td>\n",
       "      <td>2</td>\n",
       "      <td>1</td>\n",
       "      <td>2</td>\n",
       "      <td>1</td>\n",
       "      <td>2</td>\n",
       "      <td>1</td>\n",
       "      <td>2</td>\n",
       "      <td>2</td>\n",
       "      <td>1</td>\n",
       "      <td>2</td>\n",
       "      <td>NO</td>\n",
       "      <td>51-60</td>\n",
       "    </tr>\n",
       "    <tr>\n",
       "      <th>3</th>\n",
       "      <td>M</td>\n",
       "      <td>2</td>\n",
       "      <td>2</td>\n",
       "      <td>2</td>\n",
       "      <td>1</td>\n",
       "      <td>1</td>\n",
       "      <td>1</td>\n",
       "      <td>1</td>\n",
       "      <td>1</td>\n",
       "      <td>2</td>\n",
       "      <td>1</td>\n",
       "      <td>1</td>\n",
       "      <td>2</td>\n",
       "      <td>2</td>\n",
       "      <td>NO</td>\n",
       "      <td>61-70</td>\n",
       "    </tr>\n",
       "    <tr>\n",
       "      <th>4</th>\n",
       "      <td>F</td>\n",
       "      <td>1</td>\n",
       "      <td>2</td>\n",
       "      <td>1</td>\n",
       "      <td>1</td>\n",
       "      <td>1</td>\n",
       "      <td>1</td>\n",
       "      <td>1</td>\n",
       "      <td>2</td>\n",
       "      <td>1</td>\n",
       "      <td>2</td>\n",
       "      <td>2</td>\n",
       "      <td>1</td>\n",
       "      <td>1</td>\n",
       "      <td>NO</td>\n",
       "      <td>61-70</td>\n",
       "    </tr>\n",
       "  </tbody>\n",
       "</table>\n",
       "</div>"
      ],
      "text/plain": [
       "  GENDER  SMOKING  YELLOW_FINGERS  ANXIETY  PEER_PRESSURE  CHRONIC DISEASE  \\\n",
       "0      M        1               2        2              1                1   \n",
       "1      M        2               1        1              1                2   \n",
       "2      F        1               1        1              2                1   \n",
       "3      M        2               2        2              1                1   \n",
       "4      F        1               2        1              1                1   \n",
       "\n",
       "   FATIGUE   ALLERGY   WHEEZING  ALCOHOL CONSUMING  COUGHING  \\\n",
       "0         2         1         2                  2         2   \n",
       "1         2         2         1                  1         1   \n",
       "2         2         1         2                  1         2   \n",
       "3         1         1         1                  2         1   \n",
       "4         1         1         2                  1         2   \n",
       "\n",
       "   SHORTNESS OF BREATH  SWALLOWING DIFFICULTY  CHEST PAIN LUNG_CANCER  \\\n",
       "0                    2                      2           2         YES   \n",
       "1                    2                      2           2         YES   \n",
       "2                    2                      1           2          NO   \n",
       "3                    1                      2           2          NO   \n",
       "4                    2                      1           1          NO   \n",
       "\n",
       "  AGE_GROUP  \n",
       "0     61-70  \n",
       "1     71-80  \n",
       "2     51-60  \n",
       "3     61-70  \n",
       "4     61-70  "
      ]
     },
     "execution_count": 84,
     "metadata": {},
     "output_type": "execute_result"
    }
   ],
   "source": [
    "df.drop([\"AGE\"], axis=1, inplace=True)\n",
    "df.head()"
   ]
  },
  {
   "cell_type": "code",
   "execution_count": 85,
   "id": "9157e1be",
   "metadata": {},
   "outputs": [
    {
     "data": {
      "text/plain": [
       "GENDER                     object\n",
       "SMOKING                     int64\n",
       "YELLOW_FINGERS              int64\n",
       "ANXIETY                     int64\n",
       "PEER_PRESSURE               int64\n",
       "CHRONIC DISEASE             int64\n",
       "FATIGUE                     int64\n",
       "ALLERGY                     int64\n",
       "WHEEZING                    int64\n",
       "ALCOHOL CONSUMING           int64\n",
       "COUGHING                    int64\n",
       "SHORTNESS OF BREATH         int64\n",
       "SWALLOWING DIFFICULTY       int64\n",
       "CHEST PAIN                  int64\n",
       "LUNG_CANCER                object\n",
       "AGE_GROUP                category\n",
       "dtype: object"
      ]
     },
     "execution_count": 85,
     "metadata": {},
     "output_type": "execute_result"
    }
   ],
   "source": [
    "# To get the data types of each column\n",
    "df.dtypes"
   ]
  },
  {
   "cell_type": "markdown",
   "id": "c585dee2",
   "metadata": {},
   "source": [
    "Since \"GENDER\" column is in object type there is need to convert to integer. 1 being male and 0 being female."
   ]
  },
  {
   "cell_type": "code",
   "execution_count": 86,
   "id": "80885081",
   "metadata": {},
   "outputs": [
    {
     "data": {
      "text/plain": [
       "0    1\n",
       "1    1\n",
       "2    0\n",
       "3    1\n",
       "4    0\n",
       "Name: GENDER, dtype: int64"
      ]
     },
     "execution_count": 86,
     "metadata": {},
     "output_type": "execute_result"
    }
   ],
   "source": [
    "df['GENDER'] = df['GENDER'].map({'M':1,'F':0})\n",
    "df['GENDER'].head()"
   ]
  },
  {
   "cell_type": "markdown",
   "id": "e07be6ce",
   "metadata": {},
   "source": [
    "The target column \"LUNG_CANCER\" is also in object type. YES=1, NO=0."
   ]
  },
  {
   "cell_type": "code",
   "execution_count": 87,
   "id": "fba98ae2",
   "metadata": {},
   "outputs": [
    {
     "data": {
      "text/plain": [
       "0    1\n",
       "1    1\n",
       "2    0\n",
       "3    0\n",
       "4    0\n",
       "Name: LUNG_CANCER, dtype: int64"
      ]
     },
     "execution_count": 87,
     "metadata": {},
     "output_type": "execute_result"
    }
   ],
   "source": [
    "df['LUNG_CANCER'] = df['LUNG_CANCER'].map({'YES':1,'NO':0})\n",
    "df['LUNG_CANCER'].head()"
   ]
  },
  {
   "cell_type": "markdown",
   "id": "78a8953b",
   "metadata": {},
   "source": [
    "Lastly, the age_group is in category type, there is need to hot-encode this column."
   ]
  },
  {
   "cell_type": "code",
   "execution_count": 88,
   "id": "a04f2767",
   "metadata": {},
   "outputs": [
    {
     "data": {
      "text/html": [
       "<div>\n",
       "<style scoped>\n",
       "    .dataframe tbody tr th:only-of-type {\n",
       "        vertical-align: middle;\n",
       "    }\n",
       "\n",
       "    .dataframe tbody tr th {\n",
       "        vertical-align: top;\n",
       "    }\n",
       "\n",
       "    .dataframe thead th {\n",
       "        text-align: right;\n",
       "    }\n",
       "</style>\n",
       "<table border=\"1\" class=\"dataframe\">\n",
       "  <thead>\n",
       "    <tr style=\"text-align: right;\">\n",
       "      <th></th>\n",
       "      <th>GENDER</th>\n",
       "      <th>SMOKING</th>\n",
       "      <th>YELLOW_FINGERS</th>\n",
       "      <th>ANXIETY</th>\n",
       "      <th>PEER_PRESSURE</th>\n",
       "      <th>CHRONIC DISEASE</th>\n",
       "      <th>FATIGUE</th>\n",
       "      <th>ALLERGY</th>\n",
       "      <th>WHEEZING</th>\n",
       "      <th>ALCOHOL CONSUMING</th>\n",
       "      <th>...</th>\n",
       "      <th>SWALLOWING DIFFICULTY</th>\n",
       "      <th>CHEST PAIN</th>\n",
       "      <th>LUNG_CANCER</th>\n",
       "      <th>AGE_GROUP_21-30</th>\n",
       "      <th>AGE_GROUP_31-40</th>\n",
       "      <th>AGE_GROUP_41-50</th>\n",
       "      <th>AGE_GROUP_51-60</th>\n",
       "      <th>AGE_GROUP_61-70</th>\n",
       "      <th>AGE_GROUP_71-80</th>\n",
       "      <th>AGE_GROUP_81-90</th>\n",
       "    </tr>\n",
       "  </thead>\n",
       "  <tbody>\n",
       "    <tr>\n",
       "      <th>0</th>\n",
       "      <td>1</td>\n",
       "      <td>1</td>\n",
       "      <td>2</td>\n",
       "      <td>2</td>\n",
       "      <td>1</td>\n",
       "      <td>1</td>\n",
       "      <td>2</td>\n",
       "      <td>1</td>\n",
       "      <td>2</td>\n",
       "      <td>2</td>\n",
       "      <td>...</td>\n",
       "      <td>2</td>\n",
       "      <td>2</td>\n",
       "      <td>1</td>\n",
       "      <td>0</td>\n",
       "      <td>0</td>\n",
       "      <td>0</td>\n",
       "      <td>0</td>\n",
       "      <td>1</td>\n",
       "      <td>0</td>\n",
       "      <td>0</td>\n",
       "    </tr>\n",
       "    <tr>\n",
       "      <th>1</th>\n",
       "      <td>1</td>\n",
       "      <td>2</td>\n",
       "      <td>1</td>\n",
       "      <td>1</td>\n",
       "      <td>1</td>\n",
       "      <td>2</td>\n",
       "      <td>2</td>\n",
       "      <td>2</td>\n",
       "      <td>1</td>\n",
       "      <td>1</td>\n",
       "      <td>...</td>\n",
       "      <td>2</td>\n",
       "      <td>2</td>\n",
       "      <td>1</td>\n",
       "      <td>0</td>\n",
       "      <td>0</td>\n",
       "      <td>0</td>\n",
       "      <td>0</td>\n",
       "      <td>0</td>\n",
       "      <td>1</td>\n",
       "      <td>0</td>\n",
       "    </tr>\n",
       "    <tr>\n",
       "      <th>2</th>\n",
       "      <td>0</td>\n",
       "      <td>1</td>\n",
       "      <td>1</td>\n",
       "      <td>1</td>\n",
       "      <td>2</td>\n",
       "      <td>1</td>\n",
       "      <td>2</td>\n",
       "      <td>1</td>\n",
       "      <td>2</td>\n",
       "      <td>1</td>\n",
       "      <td>...</td>\n",
       "      <td>1</td>\n",
       "      <td>2</td>\n",
       "      <td>0</td>\n",
       "      <td>0</td>\n",
       "      <td>0</td>\n",
       "      <td>0</td>\n",
       "      <td>1</td>\n",
       "      <td>0</td>\n",
       "      <td>0</td>\n",
       "      <td>0</td>\n",
       "    </tr>\n",
       "    <tr>\n",
       "      <th>3</th>\n",
       "      <td>1</td>\n",
       "      <td>2</td>\n",
       "      <td>2</td>\n",
       "      <td>2</td>\n",
       "      <td>1</td>\n",
       "      <td>1</td>\n",
       "      <td>1</td>\n",
       "      <td>1</td>\n",
       "      <td>1</td>\n",
       "      <td>2</td>\n",
       "      <td>...</td>\n",
       "      <td>2</td>\n",
       "      <td>2</td>\n",
       "      <td>0</td>\n",
       "      <td>0</td>\n",
       "      <td>0</td>\n",
       "      <td>0</td>\n",
       "      <td>0</td>\n",
       "      <td>1</td>\n",
       "      <td>0</td>\n",
       "      <td>0</td>\n",
       "    </tr>\n",
       "    <tr>\n",
       "      <th>4</th>\n",
       "      <td>0</td>\n",
       "      <td>1</td>\n",
       "      <td>2</td>\n",
       "      <td>1</td>\n",
       "      <td>1</td>\n",
       "      <td>1</td>\n",
       "      <td>1</td>\n",
       "      <td>1</td>\n",
       "      <td>2</td>\n",
       "      <td>1</td>\n",
       "      <td>...</td>\n",
       "      <td>1</td>\n",
       "      <td>1</td>\n",
       "      <td>0</td>\n",
       "      <td>0</td>\n",
       "      <td>0</td>\n",
       "      <td>0</td>\n",
       "      <td>0</td>\n",
       "      <td>1</td>\n",
       "      <td>0</td>\n",
       "      <td>0</td>\n",
       "    </tr>\n",
       "  </tbody>\n",
       "</table>\n",
       "<p>5 rows × 22 columns</p>\n",
       "</div>"
      ],
      "text/plain": [
       "   GENDER  SMOKING  YELLOW_FINGERS  ANXIETY  PEER_PRESSURE  CHRONIC DISEASE  \\\n",
       "0       1        1               2        2              1                1   \n",
       "1       1        2               1        1              1                2   \n",
       "2       0        1               1        1              2                1   \n",
       "3       1        2               2        2              1                1   \n",
       "4       0        1               2        1              1                1   \n",
       "\n",
       "   FATIGUE   ALLERGY   WHEEZING  ALCOHOL CONSUMING  ...  \\\n",
       "0         2         1         2                  2  ...   \n",
       "1         2         2         1                  1  ...   \n",
       "2         2         1         2                  1  ...   \n",
       "3         1         1         1                  2  ...   \n",
       "4         1         1         2                  1  ...   \n",
       "\n",
       "   SWALLOWING DIFFICULTY  CHEST PAIN  LUNG_CANCER  AGE_GROUP_21-30  \\\n",
       "0                      2           2            1                0   \n",
       "1                      2           2            1                0   \n",
       "2                      1           2            0                0   \n",
       "3                      2           2            0                0   \n",
       "4                      1           1            0                0   \n",
       "\n",
       "   AGE_GROUP_31-40  AGE_GROUP_41-50  AGE_GROUP_51-60  AGE_GROUP_61-70  \\\n",
       "0                0                0                0                1   \n",
       "1                0                0                0                0   \n",
       "2                0                0                1                0   \n",
       "3                0                0                0                1   \n",
       "4                0                0                0                1   \n",
       "\n",
       "   AGE_GROUP_71-80  AGE_GROUP_81-90  \n",
       "0                0                0  \n",
       "1                1                0  \n",
       "2                0                0  \n",
       "3                0                0  \n",
       "4                0                0  \n",
       "\n",
       "[5 rows x 22 columns]"
      ]
     },
     "execution_count": 88,
     "metadata": {},
     "output_type": "execute_result"
    }
   ],
   "source": [
    "df1 = pd.get_dummies(df, dtype=int)\n",
    "df1.head()"
   ]
  },
  {
   "cell_type": "markdown",
   "id": "2ff36b4e",
   "metadata": {},
   "source": [
    "### Train test split"
   ]
  },
  {
   "cell_type": "code",
   "execution_count": 89,
   "id": "fb9bc1ba",
   "metadata": {},
   "outputs": [
    {
     "data": {
      "text/html": [
       "<div>\n",
       "<style scoped>\n",
       "    .dataframe tbody tr th:only-of-type {\n",
       "        vertical-align: middle;\n",
       "    }\n",
       "\n",
       "    .dataframe tbody tr th {\n",
       "        vertical-align: top;\n",
       "    }\n",
       "\n",
       "    .dataframe thead th {\n",
       "        text-align: right;\n",
       "    }\n",
       "</style>\n",
       "<table border=\"1\" class=\"dataframe\">\n",
       "  <thead>\n",
       "    <tr style=\"text-align: right;\">\n",
       "      <th></th>\n",
       "      <th>GENDER</th>\n",
       "      <th>SMOKING</th>\n",
       "      <th>YELLOW_FINGERS</th>\n",
       "      <th>ANXIETY</th>\n",
       "      <th>PEER_PRESSURE</th>\n",
       "      <th>CHRONIC DISEASE</th>\n",
       "      <th>FATIGUE</th>\n",
       "      <th>ALLERGY</th>\n",
       "      <th>WHEEZING</th>\n",
       "      <th>ALCOHOL CONSUMING</th>\n",
       "      <th>...</th>\n",
       "      <th>SHORTNESS OF BREATH</th>\n",
       "      <th>SWALLOWING DIFFICULTY</th>\n",
       "      <th>CHEST PAIN</th>\n",
       "      <th>AGE_GROUP_21-30</th>\n",
       "      <th>AGE_GROUP_31-40</th>\n",
       "      <th>AGE_GROUP_41-50</th>\n",
       "      <th>AGE_GROUP_51-60</th>\n",
       "      <th>AGE_GROUP_61-70</th>\n",
       "      <th>AGE_GROUP_71-80</th>\n",
       "      <th>AGE_GROUP_81-90</th>\n",
       "    </tr>\n",
       "  </thead>\n",
       "  <tbody>\n",
       "    <tr>\n",
       "      <th>0</th>\n",
       "      <td>1</td>\n",
       "      <td>1</td>\n",
       "      <td>2</td>\n",
       "      <td>2</td>\n",
       "      <td>1</td>\n",
       "      <td>1</td>\n",
       "      <td>2</td>\n",
       "      <td>1</td>\n",
       "      <td>2</td>\n",
       "      <td>2</td>\n",
       "      <td>...</td>\n",
       "      <td>2</td>\n",
       "      <td>2</td>\n",
       "      <td>2</td>\n",
       "      <td>0</td>\n",
       "      <td>0</td>\n",
       "      <td>0</td>\n",
       "      <td>0</td>\n",
       "      <td>1</td>\n",
       "      <td>0</td>\n",
       "      <td>0</td>\n",
       "    </tr>\n",
       "    <tr>\n",
       "      <th>1</th>\n",
       "      <td>1</td>\n",
       "      <td>2</td>\n",
       "      <td>1</td>\n",
       "      <td>1</td>\n",
       "      <td>1</td>\n",
       "      <td>2</td>\n",
       "      <td>2</td>\n",
       "      <td>2</td>\n",
       "      <td>1</td>\n",
       "      <td>1</td>\n",
       "      <td>...</td>\n",
       "      <td>2</td>\n",
       "      <td>2</td>\n",
       "      <td>2</td>\n",
       "      <td>0</td>\n",
       "      <td>0</td>\n",
       "      <td>0</td>\n",
       "      <td>0</td>\n",
       "      <td>0</td>\n",
       "      <td>1</td>\n",
       "      <td>0</td>\n",
       "    </tr>\n",
       "    <tr>\n",
       "      <th>2</th>\n",
       "      <td>0</td>\n",
       "      <td>1</td>\n",
       "      <td>1</td>\n",
       "      <td>1</td>\n",
       "      <td>2</td>\n",
       "      <td>1</td>\n",
       "      <td>2</td>\n",
       "      <td>1</td>\n",
       "      <td>2</td>\n",
       "      <td>1</td>\n",
       "      <td>...</td>\n",
       "      <td>2</td>\n",
       "      <td>1</td>\n",
       "      <td>2</td>\n",
       "      <td>0</td>\n",
       "      <td>0</td>\n",
       "      <td>0</td>\n",
       "      <td>1</td>\n",
       "      <td>0</td>\n",
       "      <td>0</td>\n",
       "      <td>0</td>\n",
       "    </tr>\n",
       "    <tr>\n",
       "      <th>3</th>\n",
       "      <td>1</td>\n",
       "      <td>2</td>\n",
       "      <td>2</td>\n",
       "      <td>2</td>\n",
       "      <td>1</td>\n",
       "      <td>1</td>\n",
       "      <td>1</td>\n",
       "      <td>1</td>\n",
       "      <td>1</td>\n",
       "      <td>2</td>\n",
       "      <td>...</td>\n",
       "      <td>1</td>\n",
       "      <td>2</td>\n",
       "      <td>2</td>\n",
       "      <td>0</td>\n",
       "      <td>0</td>\n",
       "      <td>0</td>\n",
       "      <td>0</td>\n",
       "      <td>1</td>\n",
       "      <td>0</td>\n",
       "      <td>0</td>\n",
       "    </tr>\n",
       "    <tr>\n",
       "      <th>4</th>\n",
       "      <td>0</td>\n",
       "      <td>1</td>\n",
       "      <td>2</td>\n",
       "      <td>1</td>\n",
       "      <td>1</td>\n",
       "      <td>1</td>\n",
       "      <td>1</td>\n",
       "      <td>1</td>\n",
       "      <td>2</td>\n",
       "      <td>1</td>\n",
       "      <td>...</td>\n",
       "      <td>2</td>\n",
       "      <td>1</td>\n",
       "      <td>1</td>\n",
       "      <td>0</td>\n",
       "      <td>0</td>\n",
       "      <td>0</td>\n",
       "      <td>0</td>\n",
       "      <td>1</td>\n",
       "      <td>0</td>\n",
       "      <td>0</td>\n",
       "    </tr>\n",
       "  </tbody>\n",
       "</table>\n",
       "<p>5 rows × 21 columns</p>\n",
       "</div>"
      ],
      "text/plain": [
       "   GENDER  SMOKING  YELLOW_FINGERS  ANXIETY  PEER_PRESSURE  CHRONIC DISEASE  \\\n",
       "0       1        1               2        2              1                1   \n",
       "1       1        2               1        1              1                2   \n",
       "2       0        1               1        1              2                1   \n",
       "3       1        2               2        2              1                1   \n",
       "4       0        1               2        1              1                1   \n",
       "\n",
       "   FATIGUE   ALLERGY   WHEEZING  ALCOHOL CONSUMING  ...  SHORTNESS OF BREATH  \\\n",
       "0         2         1         2                  2  ...                    2   \n",
       "1         2         2         1                  1  ...                    2   \n",
       "2         2         1         2                  1  ...                    2   \n",
       "3         1         1         1                  2  ...                    1   \n",
       "4         1         1         2                  1  ...                    2   \n",
       "\n",
       "   SWALLOWING DIFFICULTY  CHEST PAIN  AGE_GROUP_21-30  AGE_GROUP_31-40  \\\n",
       "0                      2           2                0                0   \n",
       "1                      2           2                0                0   \n",
       "2                      1           2                0                0   \n",
       "3                      2           2                0                0   \n",
       "4                      1           1                0                0   \n",
       "\n",
       "   AGE_GROUP_41-50  AGE_GROUP_51-60  AGE_GROUP_61-70  AGE_GROUP_71-80  \\\n",
       "0                0                0                1                0   \n",
       "1                0                0                0                1   \n",
       "2                0                1                0                0   \n",
       "3                0                0                1                0   \n",
       "4                0                0                1                0   \n",
       "\n",
       "   AGE_GROUP_81-90  \n",
       "0                0  \n",
       "1                0  \n",
       "2                0  \n",
       "3                0  \n",
       "4                0  \n",
       "\n",
       "[5 rows x 21 columns]"
      ]
     },
     "execution_count": 89,
     "metadata": {},
     "output_type": "execute_result"
    }
   ],
   "source": [
    "X = df1.drop([\"LUNG_CANCER\"], axis=1)\n",
    "y = df1[\"LUNG_CANCER\"]\n",
    "X.head()"
   ]
  },
  {
   "cell_type": "code",
   "execution_count": 90,
   "id": "a7867463",
   "metadata": {},
   "outputs": [
    {
     "data": {
      "text/plain": [
       "0    1\n",
       "1    1\n",
       "2    0\n",
       "3    0\n",
       "4    0\n",
       "Name: LUNG_CANCER, dtype: int64"
      ]
     },
     "execution_count": 90,
     "metadata": {},
     "output_type": "execute_result"
    }
   ],
   "source": [
    "y.head()"
   ]
  },
  {
   "cell_type": "code",
   "execution_count": 91,
   "id": "08991731",
   "metadata": {},
   "outputs": [
    {
     "data": {
      "text/plain": [
       "((193, 21), (193,), (83, 21), (83,))"
      ]
     },
     "execution_count": 91,
     "metadata": {},
     "output_type": "execute_result"
    }
   ],
   "source": [
    "X_train, X_test, y_train, y_test = train_test_split(X, y, test_size=0.3, random_state=42)\n",
    "(X_train.shape), (y_train.shape), (X_test.shape), (y_test.shape)"
   ]
  },
  {
   "cell_type": "code",
   "execution_count": 92,
   "id": "b58084f3",
   "metadata": {},
   "outputs": [
    {
     "data": {
      "image/png": "[encoded data removed]",
      "text/plain": [
       "<Figure size 700x500 with 1 Axes>"
      ]
     },
     "metadata": {},
     "output_type": "display_data"
    }
   ],
   "source": [
    "plt.figure(figsize=(7,5))\n",
    "y_train.value_counts().plot(kind=\"bar\")\n",
    "plt.xlabel(\"CANCER\")\n",
    "plt.ylabel(\"COUNT\")\n",
    "plt.show()"
   ]
  },
  {
   "cell_type": "markdown",
   "id": "93b91679",
   "metadata": {},
   "source": [
    "This graph shows that the train data is imbalanced, there is need to perform oversampling."
   ]
  },
  {
   "cell_type": "markdown",
   "id": "4f495105",
   "metadata": {},
   "source": [
    "### Data Oversampling"
   ]
  },
  {
   "cell_type": "code",
   "execution_count": 93,
   "id": "f222ffe7",
   "metadata": {},
   "outputs": [
    {
     "data": {
      "text/plain": [
       "((336, 21), (336,))"
      ]
     },
     "execution_count": 93,
     "metadata": {},
     "output_type": "execute_result"
    }
   ],
   "source": [
    "# instantiate Oversampler\n",
    "sample = RandomOverSampler()\n",
    "X_train_oversampled, y_train_oversampled = sample.fit_resample(X_train, y_train)\n",
    "(X_train_oversampled.shape), (y_train_oversampled.shape)"
   ]
  },
  {
   "cell_type": "code",
   "execution_count": 94,
   "id": "85321c10",
   "metadata": {},
   "outputs": [
    {
     "data": {
      "image/png": "[encoded data removed]",
      "text/plain": [
       "<Figure size 700x500 with 1 Axes>"
      ]
     },
     "metadata": {},
     "output_type": "display_data"
    }
   ],
   "source": [
    "plt.figure(figsize=(7,5))\n",
    "y_train_oversampled.value_counts().plot(kind=\"bar\")\n",
    "plt.xlabel(\"CANCER\")\n",
    "plt.ylabel(\"COUNT\")\n",
    "plt.show()"
   ]
  },
  {
   "cell_type": "markdown",
   "id": "9a9a58f7",
   "metadata": {},
   "source": [
    "### Data Normalization"
   ]
  },
  {
   "cell_type": "code",
   "execution_count": 95,
   "id": "10b74dff",
   "metadata": {},
   "outputs": [
    {
     "data": {
      "text/html": [
       "<div>\n",
       "<style scoped>\n",
       "    .dataframe tbody tr th:only-of-type {\n",
       "        vertical-align: middle;\n",
       "    }\n",
       "\n",
       "    .dataframe tbody tr th {\n",
       "        vertical-align: top;\n",
       "    }\n",
       "\n",
       "    .dataframe thead th {\n",
       "        text-align: right;\n",
       "    }\n",
       "</style>\n",
       "<table border=\"1\" class=\"dataframe\">\n",
       "  <thead>\n",
       "    <tr style=\"text-align: right;\">\n",
       "      <th></th>\n",
       "      <th>GENDER</th>\n",
       "      <th>SMOKING</th>\n",
       "      <th>YELLOW_FINGERS</th>\n",
       "      <th>ANXIETY</th>\n",
       "      <th>PEER_PRESSURE</th>\n",
       "      <th>CHRONIC DISEASE</th>\n",
       "      <th>FATIGUE</th>\n",
       "      <th>ALLERGY</th>\n",
       "      <th>WHEEZING</th>\n",
       "      <th>ALCOHOL CONSUMING</th>\n",
       "      <th>...</th>\n",
       "      <th>SHORTNESS OF BREATH</th>\n",
       "      <th>SWALLOWING DIFFICULTY</th>\n",
       "      <th>CHEST PAIN</th>\n",
       "      <th>AGE_GROUP_21-30</th>\n",
       "      <th>AGE_GROUP_31-40</th>\n",
       "      <th>AGE_GROUP_41-50</th>\n",
       "      <th>AGE_GROUP_51-60</th>\n",
       "      <th>AGE_GROUP_61-70</th>\n",
       "      <th>AGE_GROUP_71-80</th>\n",
       "      <th>AGE_GROUP_81-90</th>\n",
       "    </tr>\n",
       "  </thead>\n",
       "  <tbody>\n",
       "    <tr>\n",
       "      <th>0</th>\n",
       "      <td>1.0</td>\n",
       "      <td>1.0</td>\n",
       "      <td>0.0</td>\n",
       "      <td>0.0</td>\n",
       "      <td>0.0</td>\n",
       "      <td>1.0</td>\n",
       "      <td>0.0</td>\n",
       "      <td>0.0</td>\n",
       "      <td>1.0</td>\n",
       "      <td>0.0</td>\n",
       "      <td>...</td>\n",
       "      <td>1.0</td>\n",
       "      <td>0.0</td>\n",
       "      <td>1.0</td>\n",
       "      <td>0.0</td>\n",
       "      <td>0.0</td>\n",
       "      <td>0.0</td>\n",
       "      <td>1.0</td>\n",
       "      <td>0.0</td>\n",
       "      <td>0.0</td>\n",
       "      <td>0.0</td>\n",
       "    </tr>\n",
       "    <tr>\n",
       "      <th>1</th>\n",
       "      <td>0.0</td>\n",
       "      <td>1.0</td>\n",
       "      <td>0.0</td>\n",
       "      <td>1.0</td>\n",
       "      <td>0.0</td>\n",
       "      <td>0.0</td>\n",
       "      <td>1.0</td>\n",
       "      <td>0.0</td>\n",
       "      <td>0.0</td>\n",
       "      <td>0.0</td>\n",
       "      <td>...</td>\n",
       "      <td>0.0</td>\n",
       "      <td>0.0</td>\n",
       "      <td>0.0</td>\n",
       "      <td>0.0</td>\n",
       "      <td>0.0</td>\n",
       "      <td>0.0</td>\n",
       "      <td>1.0</td>\n",
       "      <td>0.0</td>\n",
       "      <td>0.0</td>\n",
       "      <td>0.0</td>\n",
       "    </tr>\n",
       "    <tr>\n",
       "      <th>2</th>\n",
       "      <td>0.0</td>\n",
       "      <td>0.0</td>\n",
       "      <td>1.0</td>\n",
       "      <td>0.0</td>\n",
       "      <td>0.0</td>\n",
       "      <td>0.0</td>\n",
       "      <td>1.0</td>\n",
       "      <td>0.0</td>\n",
       "      <td>1.0</td>\n",
       "      <td>1.0</td>\n",
       "      <td>...</td>\n",
       "      <td>1.0</td>\n",
       "      <td>0.0</td>\n",
       "      <td>0.0</td>\n",
       "      <td>0.0</td>\n",
       "      <td>0.0</td>\n",
       "      <td>0.0</td>\n",
       "      <td>0.0</td>\n",
       "      <td>0.0</td>\n",
       "      <td>1.0</td>\n",
       "      <td>0.0</td>\n",
       "    </tr>\n",
       "    <tr>\n",
       "      <th>3</th>\n",
       "      <td>1.0</td>\n",
       "      <td>0.0</td>\n",
       "      <td>0.0</td>\n",
       "      <td>0.0</td>\n",
       "      <td>0.0</td>\n",
       "      <td>1.0</td>\n",
       "      <td>0.0</td>\n",
       "      <td>1.0</td>\n",
       "      <td>0.0</td>\n",
       "      <td>1.0</td>\n",
       "      <td>...</td>\n",
       "      <td>1.0</td>\n",
       "      <td>1.0</td>\n",
       "      <td>1.0</td>\n",
       "      <td>0.0</td>\n",
       "      <td>0.0</td>\n",
       "      <td>0.0</td>\n",
       "      <td>0.0</td>\n",
       "      <td>0.0</td>\n",
       "      <td>1.0</td>\n",
       "      <td>0.0</td>\n",
       "    </tr>\n",
       "    <tr>\n",
       "      <th>4</th>\n",
       "      <td>1.0</td>\n",
       "      <td>1.0</td>\n",
       "      <td>0.0</td>\n",
       "      <td>0.0</td>\n",
       "      <td>1.0</td>\n",
       "      <td>0.0</td>\n",
       "      <td>0.0</td>\n",
       "      <td>0.0</td>\n",
       "      <td>0.0</td>\n",
       "      <td>1.0</td>\n",
       "      <td>...</td>\n",
       "      <td>1.0</td>\n",
       "      <td>0.0</td>\n",
       "      <td>0.0</td>\n",
       "      <td>0.0</td>\n",
       "      <td>0.0</td>\n",
       "      <td>0.0</td>\n",
       "      <td>1.0</td>\n",
       "      <td>0.0</td>\n",
       "      <td>0.0</td>\n",
       "      <td>0.0</td>\n",
       "    </tr>\n",
       "  </tbody>\n",
       "</table>\n",
       "<p>5 rows × 21 columns</p>\n",
       "</div>"
      ],
      "text/plain": [
       "   GENDER  SMOKING  YELLOW_FINGERS  ANXIETY  PEER_PRESSURE  CHRONIC DISEASE  \\\n",
       "0     1.0      1.0             0.0      0.0            0.0              1.0   \n",
       "1     0.0      1.0             0.0      1.0            0.0              0.0   \n",
       "2     0.0      0.0             1.0      0.0            0.0              0.0   \n",
       "3     1.0      0.0             0.0      0.0            0.0              1.0   \n",
       "4     1.0      1.0             0.0      0.0            1.0              0.0   \n",
       "\n",
       "   FATIGUE   ALLERGY   WHEEZING  ALCOHOL CONSUMING  ...  SHORTNESS OF BREATH  \\\n",
       "0       0.0       0.0       1.0                0.0  ...                  1.0   \n",
       "1       1.0       0.0       0.0                0.0  ...                  0.0   \n",
       "2       1.0       0.0       1.0                1.0  ...                  1.0   \n",
       "3       0.0       1.0       0.0                1.0  ...                  1.0   \n",
       "4       0.0       0.0       0.0                1.0  ...                  1.0   \n",
       "\n",
       "   SWALLOWING DIFFICULTY  CHEST PAIN  AGE_GROUP_21-30  AGE_GROUP_31-40  \\\n",
       "0                    0.0         1.0              0.0              0.0   \n",
       "1                    0.0         0.0              0.0              0.0   \n",
       "2                    0.0         0.0              0.0              0.0   \n",
       "3                    1.0         1.0              0.0              0.0   \n",
       "4                    0.0         0.0              0.0              0.0   \n",
       "\n",
       "   AGE_GROUP_41-50  AGE_GROUP_51-60  AGE_GROUP_61-70  AGE_GROUP_71-80  \\\n",
       "0              0.0              1.0              0.0              0.0   \n",
       "1              0.0              1.0              0.0              0.0   \n",
       "2              0.0              0.0              0.0              1.0   \n",
       "3              0.0              0.0              0.0              1.0   \n",
       "4              0.0              1.0              0.0              0.0   \n",
       "\n",
       "   AGE_GROUP_81-90  \n",
       "0              0.0  \n",
       "1              0.0  \n",
       "2              0.0  \n",
       "3              0.0  \n",
       "4              0.0  \n",
       "\n",
       "[5 rows x 21 columns]"
      ]
     },
     "execution_count": 95,
     "metadata": {},
     "output_type": "execute_result"
    }
   ],
   "source": [
    "# instantiate MinMaxScaler\n",
    "scale = MinMaxScaler()\n",
    "scaled = scale.fit_transform(X_train_oversampled)\n",
    "X_train_scaled = pd.DataFrame(scaled, columns=(X_train.columns))\n",
    "X_test_scaled = pd.DataFrame(scale.transform(X_test), columns=(X_test.columns))\n",
    "X_train_scaled.head()"
   ]
  },
  {
   "cell_type": "markdown",
   "id": "fc01ad3e",
   "metadata": {},
   "source": [
    "# MODEL SELECTION"
   ]
  },
  {
   "cell_type": "code",
   "execution_count": 111,
   "id": "27651f53",
   "metadata": {},
   "outputs": [
    {
     "name": "stdout",
     "output_type": "stream",
     "text": [
      "Epoch 1/150\n",
      "11/11 [==============================] - 1s 3ms/step - loss: 0.7027 - recall_3: 0.2917\n",
      "Epoch 2/150\n",
      "11/11 [==============================] - 0s 2ms/step - loss: 0.6957 - recall_3: 0.2857\n",
      "Epoch 3/150\n",
      "11/11 [==============================] - 0s 2ms/step - loss: 0.6902 - recall_3: 0.2798\n",
      "Epoch 4/150\n",
      "11/11 [==============================] - 0s 1ms/step - loss: 0.6849 - recall_3: 0.3036\n",
      "Epoch 5/150\n",
      "11/11 [==============================] - 0s 2ms/step - loss: 0.6798 - recall_3: 0.3452\n",
      "Epoch 6/150\n",
      "11/11 [==============================] - 0s 2ms/step - loss: 0.6739 - recall_3: 0.3988\n",
      "Epoch 7/150\n",
      "11/11 [==============================] - 0s 2ms/step - loss: 0.6673 - recall_3: 0.4821\n",
      "Epoch 8/150\n",
      "11/11 [==============================] - 0s 845us/step - loss: 0.6589 - recall_3: 0.6369\n",
      "Epoch 9/150\n",
      "11/11 [==============================] - 0s 2ms/step - loss: 0.6503 - recall_3: 0.7619\n",
      "Epoch 10/150\n",
      "11/11 [==============================] - 0s 2ms/step - loss: 0.6398 - recall_3: 0.7976\n",
      "Epoch 11/150\n",
      "11/11 [==============================] - 0s 1ms/step - loss: 0.6265 - recall_3: 0.8214\n",
      "Epoch 12/150\n",
      "11/11 [==============================] - 0s 2ms/step - loss: 0.6095 - recall_3: 0.8393\n",
      "Epoch 13/150\n",
      "11/11 [==============================] - 0s 2ms/step - loss: 0.5915 - recall_3: 0.8571\n",
      "Epoch 14/150\n",
      "11/11 [==============================] - 0s 1ms/step - loss: 0.5759 - recall_3: 0.8929\n",
      "Epoch 15/150\n",
      "11/11 [==============================] - 0s 2ms/step - loss: 0.5619 - recall_3: 0.8988\n",
      "Epoch 16/150\n",
      "11/11 [==============================] - 0s 2ms/step - loss: 0.5470 - recall_3: 0.8988\n",
      "Epoch 17/150\n",
      "11/11 [==============================] - 0s 2ms/step - loss: 0.5326 - recall_3: 0.9048\n",
      "Epoch 18/150\n",
      "11/11 [==============================] - 0s 2ms/step - loss: 0.5173 - recall_3: 0.9107\n",
      "Epoch 19/150\n",
      "11/11 [==============================] - 0s 1ms/step - loss: 0.5019 - recall_3: 0.9107\n",
      "Epoch 20/150\n",
      "11/11 [==============================] - 0s 2ms/step - loss: 0.4858 - recall_3: 0.9226\n",
      "Epoch 21/150\n",
      "11/11 [==============================] - 0s 2ms/step - loss: 0.4699 - recall_3: 0.9167\n",
      "Epoch 22/150\n",
      "11/11 [==============================] - 0s 2ms/step - loss: 0.4534 - recall_3: 0.9107\n",
      "Epoch 23/150\n",
      "11/11 [==============================] - 0s 2ms/step - loss: 0.4387 - recall_3: 0.9107\n",
      "Epoch 24/150\n",
      "11/11 [==============================] - 0s 2ms/step - loss: 0.4254 - recall_3: 0.9107\n",
      "Epoch 25/150\n",
      "11/11 [==============================] - 0s 2ms/step - loss: 0.4142 - recall_3: 0.9167\n",
      "Epoch 26/150\n",
      "11/11 [==============================] - 0s 1ms/step - loss: 0.4040 - recall_3: 0.9167\n",
      "Epoch 27/150\n",
      "11/11 [==============================] - 0s 1ms/step - loss: 0.3941 - recall_3: 0.9167\n",
      "Epoch 28/150\n",
      "11/11 [==============================] - 0s 2ms/step - loss: 0.3851 - recall_3: 0.9167\n",
      "Epoch 29/150\n",
      "11/11 [==============================] - 0s 2ms/step - loss: 0.3757 - recall_3: 0.9107\n",
      "Epoch 30/150\n",
      "11/11 [==============================] - 0s 2ms/step - loss: 0.3661 - recall_3: 0.9167\n",
      "Epoch 31/150\n",
      "11/11 [==============================] - 0s 1ms/step - loss: 0.3570 - recall_3: 0.9107\n",
      "Epoch 32/150\n",
      "11/11 [==============================] - 0s 2ms/step - loss: 0.3484 - recall_3: 0.9048\n",
      "Epoch 33/150\n",
      "11/11 [==============================] - 0s 2ms/step - loss: 0.3399 - recall_3: 0.9107\n",
      "Epoch 34/150\n",
      "11/11 [==============================] - 0s 1ms/step - loss: 0.3321 - recall_3: 0.9167\n",
      "Epoch 35/150\n",
      "11/11 [==============================] - 0s 2ms/step - loss: 0.3248 - recall_3: 0.9107\n",
      "Epoch 36/150\n",
      "11/11 [==============================] - 0s 2ms/step - loss: 0.3179 - recall_3: 0.9107\n",
      "Epoch 37/150\n",
      "11/11 [==============================] - 0s 1ms/step - loss: 0.3106 - recall_3: 0.9107\n",
      "Epoch 38/150\n",
      "11/11 [==============================] - 0s 2ms/step - loss: 0.3045 - recall_3: 0.9107\n",
      "Epoch 39/150\n",
      "11/11 [==============================] - 0s 1ms/step - loss: 0.2975 - recall_3: 0.9107\n",
      "Epoch 40/150\n",
      "11/11 [==============================] - 0s 2ms/step - loss: 0.2910 - recall_3: 0.9167\n",
      "Epoch 41/150\n",
      "11/11 [==============================] - 0s 2ms/step - loss: 0.2850 - recall_3: 0.9167\n",
      "Epoch 42/150\n",
      "11/11 [==============================] - 0s 2ms/step - loss: 0.2791 - recall_3: 0.9167\n",
      "Epoch 43/150\n",
      "11/11 [==============================] - 0s 1ms/step - loss: 0.2741 - recall_3: 0.9107\n",
      "Epoch 44/150\n",
      "11/11 [==============================] - 0s 2ms/step - loss: 0.2688 - recall_3: 0.9107\n",
      "Epoch 45/150\n",
      "11/11 [==============================] - 0s 2ms/step - loss: 0.2635 - recall_3: 0.9048\n",
      "Epoch 46/150\n",
      "11/11 [==============================] - 0s 2ms/step - loss: 0.2587 - recall_3: 0.9048\n",
      "Epoch 47/150\n",
      "11/11 [==============================] - 0s 2ms/step - loss: 0.2540 - recall_3: 0.9048\n",
      "Epoch 48/150\n",
      "11/11 [==============================] - 0s 2ms/step - loss: 0.2492 - recall_3: 0.9048\n",
      "Epoch 49/150\n",
      "11/11 [==============================] - 0s 2ms/step - loss: 0.2449 - recall_3: 0.8988\n",
      "Epoch 50/150\n",
      "11/11 [==============================] - 0s 914us/step - loss: 0.2409 - recall_3: 0.8988\n",
      "Epoch 51/150\n",
      "11/11 [==============================] - 0s 2ms/step - loss: 0.2366 - recall_3: 0.9048\n",
      "Epoch 52/150\n",
      "11/11 [==============================] - 0s 2ms/step - loss: 0.2329 - recall_3: 0.8988\n",
      "Epoch 53/150\n",
      "11/11 [==============================] - 0s 2ms/step - loss: 0.2292 - recall_3: 0.8929\n",
      "Epoch 54/150\n",
      "11/11 [==============================] - 0s 506us/step - loss: 0.2252 - recall_3: 0.8988\n",
      "Epoch 55/150\n",
      "11/11 [==============================] - 0s 2ms/step - loss: 0.2221 - recall_3: 0.8929\n",
      "Epoch 56/150\n",
      "11/11 [==============================] - 0s 2ms/step - loss: 0.2186 - recall_3: 0.8929\n",
      "Epoch 57/150\n",
      "11/11 [==============================] - 0s 1ms/step - loss: 0.2156 - recall_3: 0.8929\n",
      "Epoch 58/150\n",
      "11/11 [==============================] - 0s 2ms/step - loss: 0.2124 - recall_3: 0.8929\n",
      "Epoch 59/150\n",
      "11/11 [==============================] - 0s 2ms/step - loss: 0.2092 - recall_3: 0.8988\n",
      "Epoch 60/150\n",
      "11/11 [==============================] - 0s 2ms/step - loss: 0.2070 - recall_3: 0.8929\n",
      "Epoch 61/150\n",
      "11/11 [==============================] - 0s 2ms/step - loss: 0.2036 - recall_3: 0.8988\n",
      "Epoch 62/150\n",
      "11/11 [==============================] - 0s 814us/step - loss: 0.2015 - recall_3: 0.9048\n",
      "Epoch 63/150\n",
      "11/11 [==============================] - 0s 2ms/step - loss: 0.1988 - recall_3: 0.8988\n",
      "Epoch 64/150\n",
      "11/11 [==============================] - 0s 2ms/step - loss: 0.1961 - recall_3: 0.9048\n",
      "Epoch 65/150\n",
      "11/11 [==============================] - 0s 1ms/step - loss: 0.1934 - recall_3: 0.8988\n",
      "Epoch 66/150\n",
      "11/11 [==============================] - 0s 2ms/step - loss: 0.1911 - recall_3: 0.8988\n",
      "Epoch 67/150\n",
      "11/11 [==============================] - 0s 2ms/step - loss: 0.1887 - recall_3: 0.8988\n",
      "Epoch 68/150\n",
      "11/11 [==============================] - 0s 2ms/step - loss: 0.1866 - recall_3: 0.8988\n",
      "Epoch 69/150\n",
      "11/11 [==============================] - 0s 2ms/step - loss: 0.1846 - recall_3: 0.8988\n",
      "Epoch 70/150\n",
      "11/11 [==============================] - 0s 2ms/step - loss: 0.1826 - recall_3: 0.9048\n",
      "Epoch 71/150\n",
      "11/11 [==============================] - 0s 2ms/step - loss: 0.1803 - recall_3: 0.9107\n",
      "Epoch 72/150\n",
      "11/11 [==============================] - 0s 2ms/step - loss: 0.1785 - recall_3: 0.9048\n",
      "Epoch 73/150\n",
      "11/11 [==============================] - 0s 2ms/step - loss: 0.1765 - recall_3: 0.9107\n",
      "Epoch 74/150\n",
      "11/11 [==============================] - 0s 1ms/step - loss: 0.1749 - recall_3: 0.8988\n",
      "Epoch 75/150\n",
      "11/11 [==============================] - 0s 2ms/step - loss: 0.1732 - recall_3: 0.8988\n",
      "Epoch 76/150\n",
      "11/11 [==============================] - 0s 2ms/step - loss: 0.1714 - recall_3: 0.8988\n",
      "Epoch 77/150\n",
      "11/11 [==============================] - 0s 1ms/step - loss: 0.1698 - recall_3: 0.8988\n",
      "Epoch 78/150\n",
      "11/11 [==============================] - 0s 2ms/step - loss: 0.1681 - recall_3: 0.9107\n",
      "Epoch 79/150\n",
      "11/11 [==============================] - 0s 2ms/step - loss: 0.1667 - recall_3: 0.9167\n",
      "Epoch 80/150\n",
      "11/11 [==============================] - 0s 2ms/step - loss: 0.1651 - recall_3: 0.9167\n",
      "Epoch 81/150\n",
      "11/11 [==============================] - 0s 1ms/step - loss: 0.1633 - recall_3: 0.9107\n",
      "Epoch 82/150\n",
      "11/11 [==============================] - 0s 2ms/step - loss: 0.1621 - recall_3: 0.9107\n",
      "Epoch 83/150\n",
      "11/11 [==============================] - 0s 2ms/step - loss: 0.1601 - recall_3: 0.9107\n",
      "Epoch 84/150\n",
      "11/11 [==============================] - 0s 2ms/step - loss: 0.1598 - recall_3: 0.9107\n",
      "Epoch 85/150\n",
      "11/11 [==============================] - 0s 2ms/step - loss: 0.1571 - recall_3: 0.9107\n",
      "Epoch 86/150\n",
      "11/11 [==============================] - 0s 2ms/step - loss: 0.1557 - recall_3: 0.9107\n",
      "Epoch 87/150\n",
      "11/11 [==============================] - 0s 1ms/step - loss: 0.1548 - recall_3: 0.9107\n",
      "Epoch 88/150\n",
      "11/11 [==============================] - 0s 2ms/step - loss: 0.1537 - recall_3: 0.9107\n",
      "Epoch 89/150\n",
      "11/11 [==============================] - 0s 2ms/step - loss: 0.1520 - recall_3: 0.9167\n",
      "Epoch 90/150\n",
      "11/11 [==============================] - 0s 2ms/step - loss: 0.1503 - recall_3: 0.9167\n",
      "Epoch 91/150\n",
      "11/11 [==============================] - 0s 942us/step - loss: 0.1492 - recall_3: 0.9167\n",
      "Epoch 92/150\n",
      "11/11 [==============================] - 0s 2ms/step - loss: 0.1482 - recall_3: 0.9167\n",
      "Epoch 93/150\n",
      "11/11 [==============================] - 0s 2ms/step - loss: 0.1470 - recall_3: 0.9167\n",
      "Epoch 94/150\n",
      "11/11 [==============================] - 0s 2ms/step - loss: 0.1461 - recall_3: 0.9167\n",
      "Epoch 95/150\n",
      "11/11 [==============================] - 0s 2ms/step - loss: 0.1444 - recall_3: 0.9167\n",
      "Epoch 96/150\n",
      "11/11 [==============================] - 0s 2ms/step - loss: 0.1435 - recall_3: 0.9167\n",
      "Epoch 97/150\n",
      "11/11 [==============================] - 0s 2ms/step - loss: 0.1424 - recall_3: 0.9167\n",
      "Epoch 98/150\n",
      "11/11 [==============================] - 0s 2ms/step - loss: 0.1413 - recall_3: 0.9167\n",
      "Epoch 99/150\n",
      "11/11 [==============================] - 0s 2ms/step - loss: 0.1405 - recall_3: 0.9167\n",
      "Epoch 100/150\n",
      "11/11 [==============================] - 0s 2ms/step - loss: 0.1396 - recall_3: 0.9167\n",
      "Epoch 101/150\n",
      "11/11 [==============================] - 0s 2ms/step - loss: 0.1389 - recall_3: 0.9107\n",
      "Epoch 102/150\n",
      "11/11 [==============================] - 0s 1ms/step - loss: 0.1372 - recall_3: 0.9167\n",
      "Epoch 103/150\n",
      "11/11 [==============================] - 0s 2ms/step - loss: 0.1359 - recall_3: 0.9345\n",
      "Epoch 104/150\n",
      "11/11 [==============================] - 0s 2ms/step - loss: 0.1363 - recall_3: 0.9167\n",
      "Epoch 105/150\n",
      "11/11 [==============================] - 0s 2ms/step - loss: 0.1336 - recall_3: 0.9286\n",
      "Epoch 106/150\n",
      "11/11 [==============================] - 0s 2ms/step - loss: 0.1328 - recall_3: 0.9286\n",
      "Epoch 107/150\n",
      "11/11 [==============================] - 0s 611us/step - loss: 0.1309 - recall_3: 0.9286\n",
      "Epoch 108/150\n",
      "11/11 [==============================] - 0s 2ms/step - loss: 0.1299 - recall_3: 0.9286\n",
      "Epoch 109/150\n",
      "11/11 [==============================] - 0s 2ms/step - loss: 0.1285 - recall_3: 0.9286\n",
      "Epoch 110/150\n",
      "11/11 [==============================] - 0s 2ms/step - loss: 0.1274 - recall_3: 0.9286\n",
      "Epoch 111/150\n",
      "11/11 [==============================] - 0s 2ms/step - loss: 0.1273 - recall_3: 0.9286\n",
      "Epoch 112/150\n",
      "11/11 [==============================] - 0s 2ms/step - loss: 0.1253 - recall_3: 0.9286\n",
      "Epoch 113/150\n",
      "11/11 [==============================] - 0s 2ms/step - loss: 0.1240 - recall_3: 0.9286\n",
      "Epoch 114/150\n",
      "11/11 [==============================] - 0s 1ms/step - loss: 0.1231 - recall_3: 0.9286\n",
      "Epoch 115/150\n",
      "11/11 [==============================] - 0s 1ms/step - loss: 0.1214 - recall_3: 0.9286\n",
      "Epoch 116/150\n",
      "11/11 [==============================] - 0s 815us/step - loss: 0.1209 - recall_3: 0.9286\n",
      "Epoch 117/150\n",
      "11/11 [==============================] - 0s 2ms/step - loss: 0.1200 - recall_3: 0.9286\n",
      "Epoch 118/150\n",
      "11/11 [==============================] - 0s 2ms/step - loss: 0.1186 - recall_3: 0.9286\n",
      "Epoch 119/150\n",
      "11/11 [==============================] - 0s 1ms/step - loss: 0.1174 - recall_3: 0.9286\n",
      "Epoch 120/150\n",
      "11/11 [==============================] - 0s 1ms/step - loss: 0.1167 - recall_3: 0.9286\n",
      "Epoch 121/150\n",
      "11/11 [==============================] - 0s 2ms/step - loss: 0.1152 - recall_3: 0.9286\n",
      "Epoch 122/150\n",
      "11/11 [==============================] - 0s 2ms/step - loss: 0.1140 - recall_3: 0.9286\n",
      "Epoch 123/150\n",
      "11/11 [==============================] - 0s 2ms/step - loss: 0.1128 - recall_3: 0.9286\n",
      "Epoch 124/150\n",
      "11/11 [==============================] - 0s 1ms/step - loss: 0.1120 - recall_3: 0.9286\n",
      "Epoch 125/150\n",
      "11/11 [==============================] - 0s 508us/step - loss: 0.1105 - recall_3: 0.9345\n",
      "Epoch 126/150\n",
      "11/11 [==============================] - 0s 2ms/step - loss: 0.1095 - recall_3: 0.9405\n",
      "Epoch 127/150\n",
      "11/11 [==============================] - 0s 2ms/step - loss: 0.1085 - recall_3: 0.9345\n",
      "Epoch 128/150\n",
      "11/11 [==============================] - 0s 1ms/step - loss: 0.1080 - recall_3: 0.9345\n",
      "Epoch 129/150\n",
      "11/11 [==============================] - 0s 1ms/step - loss: 0.1068 - recall_3: 0.9345\n",
      "Epoch 130/150\n",
      "11/11 [==============================] - 0s 2ms/step - loss: 0.1057 - recall_3: 0.9345\n",
      "Epoch 131/150\n",
      "11/11 [==============================] - 0s 2ms/step - loss: 0.1042 - recall_3: 0.9345\n",
      "Epoch 132/150\n",
      "11/11 [==============================] - 0s 1ms/step - loss: 0.1040 - recall_3: 0.9226\n",
      "Epoch 133/150\n",
      "11/11 [==============================] - 0s 2ms/step - loss: 0.1038 - recall_3: 0.9345\n",
      "Epoch 134/150\n",
      "11/11 [==============================] - 0s 2ms/step - loss: 0.1017 - recall_3: 0.9345\n",
      "Epoch 135/150\n",
      "11/11 [==============================] - 0s 2ms/step - loss: 0.1004 - recall_3: 0.9345\n",
      "Epoch 136/150\n",
      "11/11 [==============================] - 0s 2ms/step - loss: 0.0993 - recall_3: 0.9464\n",
      "Epoch 137/150\n",
      "11/11 [==============================] - 0s 2ms/step - loss: 0.0984 - recall_3: 0.9464\n",
      "Epoch 138/150\n",
      "11/11 [==============================] - 0s 2ms/step - loss: 0.0976 - recall_3: 0.9464\n",
      "Epoch 139/150\n",
      "11/11 [==============================] - 0s 2ms/step - loss: 0.0972 - recall_3: 0.9464\n",
      "Epoch 140/150\n",
      "11/11 [==============================] - 0s 2ms/step - loss: 0.0961 - recall_3: 0.9524\n",
      "Epoch 141/150\n",
      "11/11 [==============================] - 0s 2ms/step - loss: 0.0959 - recall_3: 0.9524\n",
      "Epoch 142/150\n",
      "11/11 [==============================] - 0s 2ms/step - loss: 0.0943 - recall_3: 0.9524\n",
      "Epoch 143/150\n",
      "11/11 [==============================] - 0s 2ms/step - loss: 0.0941 - recall_3: 0.9524\n",
      "Epoch 144/150\n",
      "11/11 [==============================] - 0s 2ms/step - loss: 0.0931 - recall_3: 0.9524\n",
      "Epoch 145/150\n",
      "11/11 [==============================] - 0s 2ms/step - loss: 0.0930 - recall_3: 0.9524\n",
      "Epoch 146/150\n",
      "11/11 [==============================] - 0s 2ms/step - loss: 0.0913 - recall_3: 0.9524\n",
      "Epoch 147/150\n",
      "11/11 [==============================] - 0s 1ms/step - loss: 0.0907 - recall_3: 0.9524\n",
      "Epoch 148/150\n",
      "11/11 [==============================] - 0s 1ms/step - loss: 0.0898 - recall_3: 0.9524\n",
      "Epoch 149/150\n",
      "11/11 [==============================] - 0s 1ms/step - loss: 0.0895 - recall_3: 0.9524\n",
      "Epoch 150/150\n",
      "11/11 [==============================] - 0s 2ms/step - loss: 0.0886 - recall_3: 0.9464\n"
     ]
    }
   ],
   "source": [
    "# create a model\n",
    "model = tf.keras.Sequential([\n",
    "    tf.keras.layers.Dense(10, activation='relu'),\n",
    "    tf.keras.layers.Dense(4, activation='relu'),\n",
    "    tf.keras.layers.Dense(1, activation='sigmoid')\n",
    "])\n",
    "\n",
    "# compile the model\n",
    "model.compile(loss=\"binary_crossentropy\",\n",
    "             optimizer= tf.keras.optimizers.Adam(),\n",
    "             metrics= tf.keras.metrics.Recall()\n",
    "             )\n",
    "\n",
    "# fit model\n",
    "history = model.fit(X_train_scaled, y_train_oversampled, epochs=150)"
   ]
  },
  {
   "cell_type": "markdown",
   "id": "69207f32",
   "metadata": {},
   "source": [
    "# MODEL EVALUATION"
   ]
  },
  {
   "cell_type": "code",
   "execution_count": 112,
   "id": "7896ec75",
   "metadata": {},
   "outputs": [
    {
     "name": "stdout",
     "output_type": "stream",
     "text": [
      "3/3 [==============================] - 0s 0s/step - loss: 0.1260 - recall_3: 1.0000\n"
     ]
    },
    {
     "data": {
      "text/plain": [
       "[0.12602783739566803, 1.0]"
      ]
     },
     "execution_count": 112,
     "metadata": {},
     "output_type": "execute_result"
    }
   ],
   "source": [
    "model.evaluate(X_test_scaled, y_test)"
   ]
  },
  {
   "cell_type": "code",
   "execution_count": 113,
   "id": "2119d7e6",
   "metadata": {},
   "outputs": [
    {
     "name": "stdout",
     "output_type": "stream",
     "text": [
      "3/3 [==============================] - 0s 5ms/step\n"
     ]
    }
   ],
   "source": [
    "y_hat = model.predict(X_test_scaled)"
   ]
  },
  {
   "cell_type": "code",
   "execution_count": 114,
   "id": "c88dc226",
   "metadata": {},
   "outputs": [],
   "source": [
    "y_pred = []\n",
    "for i in y_hat:\n",
    "    if i >= 0.5:\n",
    "        y_pred.append(1)\n",
    "    else:\n",
    "        y_pred.append(0)"
   ]
  },
  {
   "cell_type": "code",
   "execution_count": 115,
   "id": "4b503a98",
   "metadata": {},
   "outputs": [
    {
     "data": {
      "text/plain": [
       "[0, 1, 1, 1, 0]"
      ]
     },
     "execution_count": 115,
     "metadata": {},
     "output_type": "execute_result"
    }
   ],
   "source": [
    "y_pred[:5]"
   ]
  },
  {
   "cell_type": "code",
   "execution_count": 116,
   "id": "f31092bd",
   "metadata": {},
   "outputs": [
    {
     "data": {
      "text/plain": [
       "True"
      ]
     },
     "execution_count": 116,
     "metadata": {},
     "output_type": "execute_result"
    }
   ],
   "source": [
    "len(y_hat) == len(y_pred)"
   ]
  },
  {
   "cell_type": "code",
   "execution_count": 119,
   "id": "c7b2233d",
   "metadata": {},
   "outputs": [
    {
     "name": "stdout",
     "output_type": "stream",
     "text": [
      "              precision    recall  f1-score   support\n",
      "\n",
      "           0       1.00      0.62      0.76        13\n",
      "           1       0.93      1.00      0.97        70\n",
      "\n",
      "    accuracy                           0.94        83\n",
      "   macro avg       0.97      0.81      0.86        83\n",
      "weighted avg       0.94      0.94      0.93        83\n",
      "\n"
     ]
    }
   ],
   "source": [
    "print(classification_report(y_test, y_pred))"
   ]
  },
  {
   "cell_type": "markdown",
   "id": "91b2c026",
   "metadata": {},
   "source": [
    "The recall_score metric was used due to the desire to have lesser number of false negatives.\n",
    "Being a medical context, it is safer to err on the side of caution as all predicted cases of lung cancer would be further evaluated by a medical practitioner.\n",
    "A false negative result in the real world would create an illusion of being free from lung cancer and hence there would be no further testing to ascertain the result which could be really harmful."
   ]
  },
  {
   "cell_type": "markdown",
   "id": "4c699ede",
   "metadata": {},
   "source": [
    "#### Confusion Matrix"
   ]
  },
  {
   "cell_type": "code",
   "execution_count": 120,
   "id": "cbd8103a",
   "metadata": {},
   "outputs": [],
   "source": [
    "cm = tf.math.confusion_matrix(labels=y_test, predictions=y_pred)"
   ]
  },
  {
   "cell_type": "code",
   "execution_count": 121,
   "id": "6cbacb38",
   "metadata": {},
   "outputs": [
    {
     "data": {
      "image/png": "[encoded data removed]",
      "text/plain": [
       "<Figure size 800x500 with 2 Axes>"
      ]
     },
     "metadata": {},
     "output_type": "display_data"
    }
   ],
   "source": [
    "plt.figure(figsize=(8,5))\n",
    "sns.heatmap(cm, annot=True, fmt=\"d\")\n",
    "plt.xlabel(\"predicted\")\n",
    "plt.ylabel(\"Truth\")\n",
    "plt.show()"
   ]
  },
  {
   "cell_type": "markdown",
   "id": "9050f626",
   "metadata": {},
   "source": [
    "This report shows:\n",
    "True positives: 70,\n",
    "True negatives: 8,\n",
    "False postives: 0,\n",
    "False negatives: 5"
   ]
  }
 ],
 "metadata": {
  "kernelspec": {
   "display_name": "Python 3 (ipykernel)",
   "language": "python",
   "name": "python3"
  },
  "language_info": {
   "codemirror_mode": {
    "name": "ipython",
    "version": 3
   },
   "file_extension": ".py",
   "mimetype": "text/x-python",
   "name": "python",
   "nbconvert_exporter": "python",
   "pygments_lexer": "ipython3",
   "version": "3.11.5"
  }
 },
 "nbformat": 4,
 "nbformat_minor": 5
}
